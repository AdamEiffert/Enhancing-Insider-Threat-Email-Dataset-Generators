{
 "cells": [
  {
   "cell_type": "code",
   "execution_count": 18,
   "metadata": {},
   "outputs": [],
   "source": [
    "import pandas as pd\n",
    "from matplotlib import pyplot as plt"
   ]
  },
  {
   "cell_type": "code",
   "execution_count": 19,
   "metadata": {},
   "outputs": [
    {
     "data": {
      "text/html": [
       "<div>\n",
       "<style scoped>\n",
       "    .dataframe tbody tr th:only-of-type {\n",
       "        vertical-align: middle;\n",
       "    }\n",
       "\n",
       "    .dataframe tbody tr th {\n",
       "        vertical-align: top;\n",
       "    }\n",
       "\n",
       "    .dataframe thead th {\n",
       "        text-align: right;\n",
       "    }\n",
       "</style>\n",
       "<table border=\"1\" class=\"dataframe\">\n",
       "  <thead>\n",
       "    <tr style=\"text-align: right;\">\n",
       "      <th></th>\n",
       "      <th>Unnamed: 0</th>\n",
       "      <th>index</th>\n",
       "      <th>content</th>\n",
       "      <th>fcontent</th>\n",
       "      <th>topic</th>\n",
       "      <th>vader_sentiment</th>\n",
       "      <th>vader_sentiment_bin</th>\n",
       "      <th>Topic</th>\n",
       "    </tr>\n",
       "  </thead>\n",
       "  <tbody>\n",
       "    <tr>\n",
       "      <th>0</th>\n",
       "      <td>0</td>\n",
       "      <td>0</td>\n",
       "      <td>Here is our forecast\\n\\n</td>\n",
       "      <td>['forecast']</td>\n",
       "      <td>[(0, 0.012501605), (1, 0.012501605), (2, 0.012...</td>\n",
       "      <td>0.000000</td>\n",
       "      <td>Neutral</td>\n",
       "      <td>Modern History</td>\n",
       "    </tr>\n",
       "    <tr>\n",
       "      <th>1</th>\n",
       "      <td>1</td>\n",
       "      <td>1</td>\n",
       "      <td>Traveling to have a business meeting takes the...</td>\n",
       "      <td>['travel', 'business', 'meeting', 'take', 'fun...</td>\n",
       "      <td>[(0, 0.15656357), (1, 0.03257292), (2, 0.01856...</td>\n",
       "      <td>0.217700</td>\n",
       "      <td>Slightly Positive</td>\n",
       "      <td>Government</td>\n",
       "    </tr>\n",
       "    <tr>\n",
       "      <th>2</th>\n",
       "      <td>2</td>\n",
       "      <td>2</td>\n",
       "      <td>test successful.  way to go!!!</td>\n",
       "      <td>['test', 'successful', 'way']</td>\n",
       "      <td>[(10, 0.2562595), (34, 0.5062273)]</td>\n",
       "      <td>0.195300</td>\n",
       "      <td>Slightly Positive</td>\n",
       "      <td>Literature</td>\n",
       "    </tr>\n",
       "    <tr>\n",
       "      <th>3</th>\n",
       "      <td>3</td>\n",
       "      <td>3</td>\n",
       "      <td>Randy,\\n\\n Can you send me a schedule of the s...</td>\n",
       "      <td>['randy', 'send', 'schedule', 'salary', 'level...</td>\n",
       "      <td>[(6, 0.120515056), (18, 0.19427584), (19, 0.16...</td>\n",
       "      <td>0.000000</td>\n",
       "      <td>Neutral</td>\n",
       "      <td>Engineering</td>\n",
       "    </tr>\n",
       "    <tr>\n",
       "      <th>4</th>\n",
       "      <td>4</td>\n",
       "      <td>4</td>\n",
       "      <td>Let's shoot for Tuesday at 11:45.</td>\n",
       "      <td>['let', 'shoot', 'tuesday']</td>\n",
       "      <td>[(15, 0.34167174), (37, 0.3415987)]</td>\n",
       "      <td>-0.340000</td>\n",
       "      <td>Moderately Negative</td>\n",
       "      <td>Journalism</td>\n",
       "    </tr>\n",
       "    <tr>\n",
       "      <th>...</th>\n",
       "      <td>...</td>\n",
       "      <td>...</td>\n",
       "      <td>...</td>\n",
       "      <td>...</td>\n",
       "      <td>...</td>\n",
       "      <td>...</td>\n",
       "      <td>...</td>\n",
       "      <td>...</td>\n",
       "    </tr>\n",
       "    <tr>\n",
       "      <th>92187</th>\n",
       "      <td>97680</td>\n",
       "      <td>98218</td>\n",
       "      <td>Effective 11/1/00 deliveries to Eastrans is 30...</td>\n",
       "      <td>['effective', 'delivery', 'eastrans', 'mmbtudy...</td>\n",
       "      <td>[(9, 0.17084026), (18, 0.17078577), (19, 0.170...</td>\n",
       "      <td>0.476700</td>\n",
       "      <td>Moderately Positive</td>\n",
       "      <td>Nature</td>\n",
       "    </tr>\n",
       "    <tr>\n",
       "      <th>92188</th>\n",
       "      <td>97681</td>\n",
       "      <td>98219</td>\n",
       "      <td>PW, \\n\\nHPL's spot and base purchases by zone ...</td>\n",
       "      <td>['pw', 'hpls', 'spot', 'base', 'purchase', 'zo...</td>\n",
       "      <td>[(8, 0.11305909), (11, 0.12829624), (15, 0.149...</td>\n",
       "      <td>0.000000</td>\n",
       "      <td>Neutral</td>\n",
       "      <td>Astronomy</td>\n",
       "    </tr>\n",
       "    <tr>\n",
       "      <th>92189</th>\n",
       "      <td>97682</td>\n",
       "      <td>98220</td>\n",
       "      <td>The schedule is attached.  I will remind you a...</td>\n",
       "      <td>['schedule', 'attach', 'remind', 'day', 'advan...</td>\n",
       "      <td>[(0, 0.36822718), (20, 0.09971282), (25, 0.202...</td>\n",
       "      <td>0.000000</td>\n",
       "      <td>Neutral</td>\n",
       "      <td>Winter Olympics</td>\n",
       "    </tr>\n",
       "    <tr>\n",
       "      <th>92190</th>\n",
       "      <td>97683</td>\n",
       "      <td>98221</td>\n",
       "      <td>Enron Methanol nominates the following natural...</td>\n",
       "      <td>['enron', 'methanol', 'nominate', 'follow', 'n...</td>\n",
       "      <td>[(5, 0.2574057), (8, 0.07809814), (18, 0.33238...</td>\n",
       "      <td>0.612400</td>\n",
       "      <td>Very Positive</td>\n",
       "      <td>Engineering</td>\n",
       "    </tr>\n",
       "    <tr>\n",
       "      <th>92191</th>\n",
       "      <td>97684</td>\n",
       "      <td>98222</td>\n",
       "      <td>Attached is the November 2000 nomination for o...</td>\n",
       "      <td>['attached', 'november', 'nomination', 'take',...</td>\n",
       "      <td>[(3, 0.1033487), (7, 0.2625391), (8, 0.0954066...</td>\n",
       "      <td>0.252867</td>\n",
       "      <td>Slightly Positive</td>\n",
       "      <td>Culture</td>\n",
       "    </tr>\n",
       "  </tbody>\n",
       "</table>\n",
       "<p>92192 rows × 8 columns</p>\n",
       "</div>"
      ],
      "text/plain": [
       "       Unnamed: 0  index                                            content  \\\n",
       "0               0      0                          Here is our forecast\\n\\n    \n",
       "1               1      1  Traveling to have a business meeting takes the...   \n",
       "2               2      2                     test successful.  way to go!!!   \n",
       "3               3      3  Randy,\\n\\n Can you send me a schedule of the s...   \n",
       "4               4      4                Let's shoot for Tuesday at 11:45.     \n",
       "...           ...    ...                                                ...   \n",
       "92187       97680  98218  Effective 11/1/00 deliveries to Eastrans is 30...   \n",
       "92188       97681  98219  PW, \\n\\nHPL's spot and base purchases by zone ...   \n",
       "92189       97682  98220  The schedule is attached.  I will remind you a...   \n",
       "92190       97683  98221  Enron Methanol nominates the following natural...   \n",
       "92191       97684  98222  Attached is the November 2000 nomination for o...   \n",
       "\n",
       "                                                fcontent  \\\n",
       "0                                           ['forecast']   \n",
       "1      ['travel', 'business', 'meeting', 'take', 'fun...   \n",
       "2                          ['test', 'successful', 'way']   \n",
       "3      ['randy', 'send', 'schedule', 'salary', 'level...   \n",
       "4                            ['let', 'shoot', 'tuesday']   \n",
       "...                                                  ...   \n",
       "92187  ['effective', 'delivery', 'eastrans', 'mmbtudy...   \n",
       "92188  ['pw', 'hpls', 'spot', 'base', 'purchase', 'zo...   \n",
       "92189  ['schedule', 'attach', 'remind', 'day', 'advan...   \n",
       "92190  ['enron', 'methanol', 'nominate', 'follow', 'n...   \n",
       "92191  ['attached', 'november', 'nomination', 'take',...   \n",
       "\n",
       "                                                   topic  vader_sentiment  \\\n",
       "0      [(0, 0.012501605), (1, 0.012501605), (2, 0.012...         0.000000   \n",
       "1      [(0, 0.15656357), (1, 0.03257292), (2, 0.01856...         0.217700   \n",
       "2                     [(10, 0.2562595), (34, 0.5062273)]         0.195300   \n",
       "3      [(6, 0.120515056), (18, 0.19427584), (19, 0.16...         0.000000   \n",
       "4                    [(15, 0.34167174), (37, 0.3415987)]        -0.340000   \n",
       "...                                                  ...              ...   \n",
       "92187  [(9, 0.17084026), (18, 0.17078577), (19, 0.170...         0.476700   \n",
       "92188  [(8, 0.11305909), (11, 0.12829624), (15, 0.149...         0.000000   \n",
       "92189  [(0, 0.36822718), (20, 0.09971282), (25, 0.202...         0.000000   \n",
       "92190  [(5, 0.2574057), (8, 0.07809814), (18, 0.33238...         0.612400   \n",
       "92191  [(3, 0.1033487), (7, 0.2625391), (8, 0.0954066...         0.252867   \n",
       "\n",
       "       vader_sentiment_bin            Topic  \n",
       "0                  Neutral   Modern History  \n",
       "1        Slightly Positive       Government  \n",
       "2        Slightly Positive       Literature  \n",
       "3                  Neutral      Engineering  \n",
       "4      Moderately Negative       Journalism  \n",
       "...                    ...              ...  \n",
       "92187  Moderately Positive           Nature  \n",
       "92188              Neutral        Astronomy  \n",
       "92189              Neutral  Winter Olympics  \n",
       "92190        Very Positive      Engineering  \n",
       "92191    Slightly Positive          Culture  \n",
       "\n",
       "[92192 rows x 8 columns]"
      ]
     },
     "execution_count": 19,
     "metadata": {},
     "output_type": "execute_result"
    }
   ],
   "source": [
    "df = pd.read_csv('../data/complete_enron.csv')\n",
    "df"
   ]
  },
  {
   "cell_type": "markdown",
   "metadata": {},
   "source": [
    "# Length\n",
    "We first count the number of words in the Enron emails, and take the average length of each email. "
   ]
  },
  {
   "cell_type": "code",
   "execution_count": 20,
   "metadata": {
    "scrolled": true
   },
   "outputs": [
    {
     "name": "stdout",
     "output_type": "stream",
     "text": [
      "6372863\n",
      "69.12598707046165\n"
     ]
    }
   ],
   "source": [
    "c = 0\n",
    "for i in range(len(df)):\n",
    "    c += len(str(df['content'][i]).split())\n",
    "print(c)\n",
    "print(c/len(df))"
   ]
  },
  {
   "cell_type": "code",
   "execution_count": 21,
   "metadata": {},
   "outputs": [],
   "source": [
    "leng =[]\n",
    "for i in range(len(df)):\n",
    "    leng.append(len(str(df['content'][i]).split()))"
   ]
  },
  {
   "cell_type": "markdown",
   "metadata": {},
   "source": [
    "We now look at the distribution of emails by length. There are a few emails beyond 500 words, with some being more than 30,000, these were ignored as many were automated emails. "
   ]
  },
  {
   "cell_type": "code",
   "execution_count": 22,
   "metadata": {},
   "outputs": [
    {
     "data": {
      "text/plain": [
       "(array([18066., 13799., 10977., 13227.,  8107.,  7572.,  7698.,  4498.,\n",
       "         4563.,  2376.,  1309.]),\n",
       " array([  0,  10,  20,  30,  50,  70, 100, 150, 200, 300, 400, 500]),\n",
       " <BarContainer object of 11 artists>)"
      ]
     },
     "execution_count": 22,
     "metadata": {},
     "output_type": "execute_result"
    },
    {
     "data": {
      "image/png": "[encoded data removed]",
      "text/plain": [
       "<Figure size 432x288 with 1 Axes>"
      ]
     },
     "metadata": {
      "needs_background": "light"
     },
     "output_type": "display_data"
    }
   ],
   "source": [
    "plt.hist(leng,bins=[0,10,20,30,50,70,100,150,200, 300,400,500])"
   ]
  },
  {
   "cell_type": "markdown",
   "metadata": {},
   "source": [
    "# Sentiment\n",
    "We now find the distribution of sentiment bins over the Enron emails."
   ]
  },
  {
   "cell_type": "code",
   "execution_count": 23,
   "metadata": {},
   "outputs": [
    {
     "data": {
      "text/plain": [
       "<AxesSubplot:>"
      ]
     },
     "execution_count": 23,
     "metadata": {},
     "output_type": "execute_result"
    },
    {
     "data": {
      "image/png": "[encoded data removed]",
      "text/plain": [
       "<Figure size 432x288 with 1 Axes>"
      ]
     },
     "metadata": {
      "needs_background": "light"
     },
     "output_type": "display_data"
    }
   ],
   "source": [
    "d1 = df['vader_sentiment_bin'].value_counts()\n",
    "d1 = d1.reindex(['Extremely Negative','Very Negative', 'Moderately Negative', 'Slightly Negative', 'Neutral', 'Slightly Positive', 'Moderately Positive', 'Very Positive', 'Extremely Positive'])\n",
    "d1.plot.bar()"
   ]
  },
  {
   "cell_type": "markdown",
   "metadata": {},
   "source": [
    "We now split the interval [0,1] accroding to the frequency of the sentiment bin."
   ]
  },
  {
   "cell_type": "code",
   "execution_count": 24,
   "metadata": {},
   "outputs": [],
   "source": [
    "score = df['vader_sentiment_bin'].value_counts(normalize=True) \n",
    "count = 0\n",
    "cum = []\n",
    "for i in range(len(score) - 1):\n",
    "    count += score[i]\n",
    "    cum.append(count)\n",
    "cum.append(1)\n",
    "names = score.index.tolist()\n",
    "df1 = pd.DataFrame()\n",
    "df1['names'] = names\n",
    "df1['score'] = cum\n",
    "df1\n",
    "df1.to_csv('../data/SentDist.csv')"
   ]
  },
  {
   "cell_type": "code",
   "execution_count": 25,
   "metadata": {},
   "outputs": [
    {
     "data": {
      "text/html": [
       "<div>\n",
       "<style scoped>\n",
       "    .dataframe tbody tr th:only-of-type {\n",
       "        vertical-align: middle;\n",
       "    }\n",
       "\n",
       "    .dataframe tbody tr th {\n",
       "        vertical-align: top;\n",
       "    }\n",
       "\n",
       "    .dataframe thead th {\n",
       "        text-align: right;\n",
       "    }\n",
       "</style>\n",
       "<table border=\"1\" class=\"dataframe\">\n",
       "  <thead>\n",
       "    <tr style=\"text-align: right;\">\n",
       "      <th></th>\n",
       "      <th>names</th>\n",
       "      <th>score</th>\n",
       "    </tr>\n",
       "  </thead>\n",
       "  <tbody>\n",
       "    <tr>\n",
       "      <th>0</th>\n",
       "      <td>Slightly Positive</td>\n",
       "      <td>0.494132</td>\n",
       "    </tr>\n",
       "    <tr>\n",
       "      <th>1</th>\n",
       "      <td>Neutral</td>\n",
       "      <td>0.712415</td>\n",
       "    </tr>\n",
       "    <tr>\n",
       "      <th>2</th>\n",
       "      <td>Moderately Positive</td>\n",
       "      <td>0.907150</td>\n",
       "    </tr>\n",
       "    <tr>\n",
       "      <th>3</th>\n",
       "      <td>Slightly Negative</td>\n",
       "      <td>0.957643</td>\n",
       "    </tr>\n",
       "    <tr>\n",
       "      <th>4</th>\n",
       "      <td>Very Positive</td>\n",
       "      <td>0.986127</td>\n",
       "    </tr>\n",
       "    <tr>\n",
       "      <th>5</th>\n",
       "      <td>Moderately Negative</td>\n",
       "      <td>0.992895</td>\n",
       "    </tr>\n",
       "    <tr>\n",
       "      <th>6</th>\n",
       "      <td>Extremely Positive</td>\n",
       "      <td>0.997570</td>\n",
       "    </tr>\n",
       "    <tr>\n",
       "      <th>7</th>\n",
       "      <td>Very Negative</td>\n",
       "      <td>0.999403</td>\n",
       "    </tr>\n",
       "    <tr>\n",
       "      <th>8</th>\n",
       "      <td>Extremely Negative</td>\n",
       "      <td>1.000000</td>\n",
       "    </tr>\n",
       "  </tbody>\n",
       "</table>\n",
       "</div>"
      ],
      "text/plain": [
       "                 names     score\n",
       "0    Slightly Positive  0.494132\n",
       "1              Neutral  0.712415\n",
       "2  Moderately Positive  0.907150\n",
       "3    Slightly Negative  0.957643\n",
       "4        Very Positive  0.986127\n",
       "5  Moderately Negative  0.992895\n",
       "6   Extremely Positive  0.997570\n",
       "7        Very Negative  0.999403\n",
       "8   Extremely Negative  1.000000"
      ]
     },
     "execution_count": 25,
     "metadata": {},
     "output_type": "execute_result"
    }
   ],
   "source": [
    "df1"
   ]
  },
  {
   "cell_type": "markdown",
   "metadata": {},
   "source": [
    "topics"
   ]
  },
  {
   "cell_type": "markdown",
   "metadata": {},
   "source": [
    "# Topics\n",
    "We will now look at the distribution of topics over Enron. "
   ]
  },
  {
   "cell_type": "code",
   "execution_count": 27,
   "metadata": {},
   "outputs": [
    {
     "data": {
      "image/png": "[encoded data removed]",
      "text/plain": [
       "<Figure size 720x360 with 1 Axes>"
      ]
     },
     "metadata": {
      "needs_background": "light"
     },
     "output_type": "display_data"
    }
   ],
   "source": [
    "df['Topic'].value_counts().plot.bar(figsize=(10,5))\n",
    "plt.ylabel('Number of Emails')\n",
    "plt.xlabel('Topic Title')\n",
    "plt.show()"
   ]
  },
  {
   "cell_type": "markdown",
   "metadata": {},
   "source": [
    "We now split the interval [0,1] accroding to the frequency of the Topics."
   ]
  },
  {
   "cell_type": "code",
   "execution_count": 40,
   "metadata": {},
   "outputs": [],
   "source": [
    "score = df['Topic'].value_counts(normalize=True) \n",
    "count = 0\n",
    "cum = []\n",
    "for i in range(len(score) - 1):\n",
    "    count += score[i]\n",
    "    cum.append(count)\n",
    "cum.append(1)\n",
    "names = score.index.tolist()\n",
    "df1 = pd.DataFrame()\n",
    "df1['names'] = names\n",
    "df1['score'] = cum\n",
    "df1\n",
    "df1.to_csv('../data/TopicDist.csv')"
   ]
  },
  {
   "cell_type": "code",
   "execution_count": null,
   "metadata": {},
   "outputs": [],
   "source": []
  }
 ],
 "metadata": {
  "kernelspec": {
   "display_name": "Python 3",
   "language": "python",
   "name": "python3"
  },
  "language_info": {
   "codemirror_mode": {
    "name": "ipython",
    "version": 3
   },
   "file_extension": ".py",
   "mimetype": "text/x-python",
   "name": "python",
   "nbconvert_exporter": "python",
   "pygments_lexer": "ipython3",
   "version": "3.8.10"
  }
 },
 "nbformat": 4,
 "nbformat_minor": 4
}
