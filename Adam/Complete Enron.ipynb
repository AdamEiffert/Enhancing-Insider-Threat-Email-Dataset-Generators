{
 "cells": [
  {
   "cell_type": "code",
   "execution_count": 1,
   "metadata": {},
   "outputs": [],
   "source": [
    "import pandas as pd\n",
    "from ast import literal_eval"
   ]
  },
  {
   "cell_type": "code",
   "execution_count": 2,
   "metadata": {},
   "outputs": [
    {
     "data": {
      "text/html": [
       "<div>\n",
       "<style scoped>\n",
       "    .dataframe tbody tr th:only-of-type {\n",
       "        vertical-align: middle;\n",
       "    }\n",
       "\n",
       "    .dataframe tbody tr th {\n",
       "        vertical-align: top;\n",
       "    }\n",
       "\n",
       "    .dataframe thead th {\n",
       "        text-align: right;\n",
       "    }\n",
       "</style>\n",
       "<table border=\"1\" class=\"dataframe\">\n",
       "  <thead>\n",
       "    <tr style=\"text-align: right;\">\n",
       "      <th></th>\n",
       "      <th>content</th>\n",
       "      <th>fcontent</th>\n",
       "      <th>topic</th>\n",
       "      <th>vader_sentiment</th>\n",
       "      <th>vader_sentiment_bin</th>\n",
       "    </tr>\n",
       "  </thead>\n",
       "  <tbody>\n",
       "    <tr>\n",
       "      <th>0</th>\n",
       "      <td>Here is our forecast\\n\\n</td>\n",
       "      <td>['forecast']</td>\n",
       "      <td>[(0, 0.012501605), (1, 0.012501605), (2, 0.012...</td>\n",
       "      <td>0.000000</td>\n",
       "      <td>Neutral</td>\n",
       "    </tr>\n",
       "    <tr>\n",
       "      <th>1</th>\n",
       "      <td>Traveling to have a business meeting takes the...</td>\n",
       "      <td>['travel', 'business', 'meeting', 'take', 'fun...</td>\n",
       "      <td>[(0, 0.15656357), (1, 0.03257292), (2, 0.01856...</td>\n",
       "      <td>0.217700</td>\n",
       "      <td>Slightly Positive</td>\n",
       "    </tr>\n",
       "    <tr>\n",
       "      <th>2</th>\n",
       "      <td>test successful.  way to go!!!</td>\n",
       "      <td>['test', 'successful', 'way']</td>\n",
       "      <td>[(10, 0.2562595), (34, 0.5062273)]</td>\n",
       "      <td>0.195300</td>\n",
       "      <td>Slightly Positive</td>\n",
       "    </tr>\n",
       "    <tr>\n",
       "      <th>3</th>\n",
       "      <td>Randy,\\n\\n Can you send me a schedule of the s...</td>\n",
       "      <td>['randy', 'send', 'schedule', 'salary', 'level...</td>\n",
       "      <td>[(6, 0.120515056), (18, 0.19427584), (19, 0.16...</td>\n",
       "      <td>0.000000</td>\n",
       "      <td>Neutral</td>\n",
       "    </tr>\n",
       "    <tr>\n",
       "      <th>4</th>\n",
       "      <td>Let's shoot for Tuesday at 11:45.</td>\n",
       "      <td>['let', 'shoot', 'tuesday']</td>\n",
       "      <td>[(15, 0.34167174), (37, 0.3415987)]</td>\n",
       "      <td>-0.340000</td>\n",
       "      <td>Moderately Negative</td>\n",
       "    </tr>\n",
       "    <tr>\n",
       "      <th>...</th>\n",
       "      <td>...</td>\n",
       "      <td>...</td>\n",
       "      <td>...</td>\n",
       "      <td>...</td>\n",
       "      <td>...</td>\n",
       "    </tr>\n",
       "    <tr>\n",
       "      <th>98218</th>\n",
       "      <td>Effective 11/1/00 deliveries to Eastrans is 30...</td>\n",
       "      <td>['effective', 'delivery', 'eastrans', 'mmbtudy...</td>\n",
       "      <td>[(9, 0.17084026), (18, 0.17078577), (19, 0.170...</td>\n",
       "      <td>0.476700</td>\n",
       "      <td>Moderately Positive</td>\n",
       "    </tr>\n",
       "    <tr>\n",
       "      <th>98219</th>\n",
       "      <td>PW, \\n\\nHPL's spot and base purchases by zone ...</td>\n",
       "      <td>['pw', 'hpls', 'spot', 'base', 'purchase', 'zo...</td>\n",
       "      <td>[(8, 0.11305909), (11, 0.12829624), (15, 0.149...</td>\n",
       "      <td>0.000000</td>\n",
       "      <td>Neutral</td>\n",
       "    </tr>\n",
       "    <tr>\n",
       "      <th>98220</th>\n",
       "      <td>The schedule is attached.  I will remind you a...</td>\n",
       "      <td>['schedule', 'attach', 'remind', 'day', 'advan...</td>\n",
       "      <td>[(0, 0.36822718), (20, 0.09971282), (25, 0.202...</td>\n",
       "      <td>0.000000</td>\n",
       "      <td>Neutral</td>\n",
       "    </tr>\n",
       "    <tr>\n",
       "      <th>98221</th>\n",
       "      <td>Enron Methanol nominates the following natural...</td>\n",
       "      <td>['enron', 'methanol', 'nominate', 'follow', 'n...</td>\n",
       "      <td>[(5, 0.2574057), (8, 0.07809814), (18, 0.33238...</td>\n",
       "      <td>0.612400</td>\n",
       "      <td>Very Positive</td>\n",
       "    </tr>\n",
       "    <tr>\n",
       "      <th>98222</th>\n",
       "      <td>Attached is the November 2000 nomination for o...</td>\n",
       "      <td>['attached', 'november', 'nomination', 'take',...</td>\n",
       "      <td>[(3, 0.1033487), (7, 0.2625391), (8, 0.0954066...</td>\n",
       "      <td>0.252867</td>\n",
       "      <td>Slightly Positive</td>\n",
       "    </tr>\n",
       "  </tbody>\n",
       "</table>\n",
       "<p>98223 rows × 5 columns</p>\n",
       "</div>"
      ],
      "text/plain": [
       "                                                 content  \\\n",
       "0                              Here is our forecast\\n\\n    \n",
       "1      Traveling to have a business meeting takes the...   \n",
       "2                         test successful.  way to go!!!   \n",
       "3      Randy,\\n\\n Can you send me a schedule of the s...   \n",
       "4                    Let's shoot for Tuesday at 11:45.     \n",
       "...                                                  ...   \n",
       "98218  Effective 11/1/00 deliveries to Eastrans is 30...   \n",
       "98219  PW, \\n\\nHPL's spot and base purchases by zone ...   \n",
       "98220  The schedule is attached.  I will remind you a...   \n",
       "98221  Enron Methanol nominates the following natural...   \n",
       "98222  Attached is the November 2000 nomination for o...   \n",
       "\n",
       "                                                fcontent  \\\n",
       "0                                           ['forecast']   \n",
       "1      ['travel', 'business', 'meeting', 'take', 'fun...   \n",
       "2                          ['test', 'successful', 'way']   \n",
       "3      ['randy', 'send', 'schedule', 'salary', 'level...   \n",
       "4                            ['let', 'shoot', 'tuesday']   \n",
       "...                                                  ...   \n",
       "98218  ['effective', 'delivery', 'eastrans', 'mmbtudy...   \n",
       "98219  ['pw', 'hpls', 'spot', 'base', 'purchase', 'zo...   \n",
       "98220  ['schedule', 'attach', 'remind', 'day', 'advan...   \n",
       "98221  ['enron', 'methanol', 'nominate', 'follow', 'n...   \n",
       "98222  ['attached', 'november', 'nomination', 'take',...   \n",
       "\n",
       "                                                   topic  vader_sentiment  \\\n",
       "0      [(0, 0.012501605), (1, 0.012501605), (2, 0.012...         0.000000   \n",
       "1      [(0, 0.15656357), (1, 0.03257292), (2, 0.01856...         0.217700   \n",
       "2                     [(10, 0.2562595), (34, 0.5062273)]         0.195300   \n",
       "3      [(6, 0.120515056), (18, 0.19427584), (19, 0.16...         0.000000   \n",
       "4                    [(15, 0.34167174), (37, 0.3415987)]        -0.340000   \n",
       "...                                                  ...              ...   \n",
       "98218  [(9, 0.17084026), (18, 0.17078577), (19, 0.170...         0.476700   \n",
       "98219  [(8, 0.11305909), (11, 0.12829624), (15, 0.149...         0.000000   \n",
       "98220  [(0, 0.36822718), (20, 0.09971282), (25, 0.202...         0.000000   \n",
       "98221  [(5, 0.2574057), (8, 0.07809814), (18, 0.33238...         0.612400   \n",
       "98222  [(3, 0.1033487), (7, 0.2625391), (8, 0.0954066...         0.252867   \n",
       "\n",
       "       vader_sentiment_bin  \n",
       "0                  Neutral  \n",
       "1        Slightly Positive  \n",
       "2        Slightly Positive  \n",
       "3                  Neutral  \n",
       "4      Moderately Negative  \n",
       "...                    ...  \n",
       "98218  Moderately Positive  \n",
       "98219              Neutral  \n",
       "98220              Neutral  \n",
       "98221        Very Positive  \n",
       "98222    Slightly Positive  \n",
       "\n",
       "[98223 rows x 5 columns]"
      ]
     },
     "execution_count": 2,
     "metadata": {},
     "output_type": "execute_result"
    }
   ],
   "source": [
    "df = pd.read_csv('../data/both_enron.csv').drop(columns='Unnamed: 0')\n",
    "df"
   ]
  },
  {
   "cell_type": "code",
   "execution_count": 3,
   "metadata": {},
   "outputs": [],
   "source": [
    "cond = [len(topic)<10 for topic in df.topic]"
   ]
  },
  {
   "cell_type": "code",
   "execution_count": 4,
   "metadata": {},
   "outputs": [
    {
     "data": {
      "text/plain": [
       "33       none\n",
       "39       none\n",
       "45       none\n",
       "65       none\n",
       "72       none\n",
       "         ... \n",
       "95998    none\n",
       "96021    none\n",
       "96032    none\n",
       "96270    none\n",
       "96316    none\n",
       "Name: topic, Length: 538, dtype: object"
      ]
     },
     "execution_count": 4,
     "metadata": {},
     "output_type": "execute_result"
    }
   ],
   "source": [
    "df[cond]['topic']"
   ]
  },
  {
   "cell_type": "code",
   "execution_count": 5,
   "metadata": {},
   "outputs": [],
   "source": [
    "bad_idx = df[cond]['topic'].index"
   ]
  },
  {
   "cell_type": "code",
   "execution_count": 6,
   "metadata": {},
   "outputs": [],
   "source": [
    "bad_df = df.index.isin(bad_idx)"
   ]
  },
  {
   "cell_type": "code",
   "execution_count": 7,
   "metadata": {},
   "outputs": [],
   "source": [
    "df2=df[~bad_df]"
   ]
  },
  {
   "cell_type": "code",
   "execution_count": 8,
   "metadata": {},
   "outputs": [
    {
     "data": {
      "text/html": [
       "<div>\n",
       "<style scoped>\n",
       "    .dataframe tbody tr th:only-of-type {\n",
       "        vertical-align: middle;\n",
       "    }\n",
       "\n",
       "    .dataframe tbody tr th {\n",
       "        vertical-align: top;\n",
       "    }\n",
       "\n",
       "    .dataframe thead th {\n",
       "        text-align: right;\n",
       "    }\n",
       "</style>\n",
       "<table border=\"1\" class=\"dataframe\">\n",
       "  <thead>\n",
       "    <tr style=\"text-align: right;\">\n",
       "      <th></th>\n",
       "      <th>content</th>\n",
       "      <th>fcontent</th>\n",
       "      <th>topic</th>\n",
       "      <th>vader_sentiment</th>\n",
       "      <th>vader_sentiment_bin</th>\n",
       "    </tr>\n",
       "  </thead>\n",
       "  <tbody>\n",
       "    <tr>\n",
       "      <th>0</th>\n",
       "      <td>Here is our forecast\\n\\n</td>\n",
       "      <td>['forecast']</td>\n",
       "      <td>[(0, 0.012501605), (1, 0.012501605), (2, 0.012...</td>\n",
       "      <td>0.000000</td>\n",
       "      <td>Neutral</td>\n",
       "    </tr>\n",
       "    <tr>\n",
       "      <th>1</th>\n",
       "      <td>Traveling to have a business meeting takes the...</td>\n",
       "      <td>['travel', 'business', 'meeting', 'take', 'fun...</td>\n",
       "      <td>[(0, 0.15656357), (1, 0.03257292), (2, 0.01856...</td>\n",
       "      <td>0.217700</td>\n",
       "      <td>Slightly Positive</td>\n",
       "    </tr>\n",
       "    <tr>\n",
       "      <th>2</th>\n",
       "      <td>test successful.  way to go!!!</td>\n",
       "      <td>['test', 'successful', 'way']</td>\n",
       "      <td>[(10, 0.2562595), (34, 0.5062273)]</td>\n",
       "      <td>0.195300</td>\n",
       "      <td>Slightly Positive</td>\n",
       "    </tr>\n",
       "    <tr>\n",
       "      <th>3</th>\n",
       "      <td>Randy,\\n\\n Can you send me a schedule of the s...</td>\n",
       "      <td>['randy', 'send', 'schedule', 'salary', 'level...</td>\n",
       "      <td>[(6, 0.120515056), (18, 0.19427584), (19, 0.16...</td>\n",
       "      <td>0.000000</td>\n",
       "      <td>Neutral</td>\n",
       "    </tr>\n",
       "    <tr>\n",
       "      <th>4</th>\n",
       "      <td>Let's shoot for Tuesday at 11:45.</td>\n",
       "      <td>['let', 'shoot', 'tuesday']</td>\n",
       "      <td>[(15, 0.34167174), (37, 0.3415987)]</td>\n",
       "      <td>-0.340000</td>\n",
       "      <td>Moderately Negative</td>\n",
       "    </tr>\n",
       "    <tr>\n",
       "      <th>...</th>\n",
       "      <td>...</td>\n",
       "      <td>...</td>\n",
       "      <td>...</td>\n",
       "      <td>...</td>\n",
       "      <td>...</td>\n",
       "    </tr>\n",
       "    <tr>\n",
       "      <th>98218</th>\n",
       "      <td>Effective 11/1/00 deliveries to Eastrans is 30...</td>\n",
       "      <td>['effective', 'delivery', 'eastrans', 'mmbtudy...</td>\n",
       "      <td>[(9, 0.17084026), (18, 0.17078577), (19, 0.170...</td>\n",
       "      <td>0.476700</td>\n",
       "      <td>Moderately Positive</td>\n",
       "    </tr>\n",
       "    <tr>\n",
       "      <th>98219</th>\n",
       "      <td>PW, \\n\\nHPL's spot and base purchases by zone ...</td>\n",
       "      <td>['pw', 'hpls', 'spot', 'base', 'purchase', 'zo...</td>\n",
       "      <td>[(8, 0.11305909), (11, 0.12829624), (15, 0.149...</td>\n",
       "      <td>0.000000</td>\n",
       "      <td>Neutral</td>\n",
       "    </tr>\n",
       "    <tr>\n",
       "      <th>98220</th>\n",
       "      <td>The schedule is attached.  I will remind you a...</td>\n",
       "      <td>['schedule', 'attach', 'remind', 'day', 'advan...</td>\n",
       "      <td>[(0, 0.36822718), (20, 0.09971282), (25, 0.202...</td>\n",
       "      <td>0.000000</td>\n",
       "      <td>Neutral</td>\n",
       "    </tr>\n",
       "    <tr>\n",
       "      <th>98221</th>\n",
       "      <td>Enron Methanol nominates the following natural...</td>\n",
       "      <td>['enron', 'methanol', 'nominate', 'follow', 'n...</td>\n",
       "      <td>[(5, 0.2574057), (8, 0.07809814), (18, 0.33238...</td>\n",
       "      <td>0.612400</td>\n",
       "      <td>Very Positive</td>\n",
       "    </tr>\n",
       "    <tr>\n",
       "      <th>98222</th>\n",
       "      <td>Attached is the November 2000 nomination for o...</td>\n",
       "      <td>['attached', 'november', 'nomination', 'take',...</td>\n",
       "      <td>[(3, 0.1033487), (7, 0.2625391), (8, 0.0954066...</td>\n",
       "      <td>0.252867</td>\n",
       "      <td>Slightly Positive</td>\n",
       "    </tr>\n",
       "  </tbody>\n",
       "</table>\n",
       "<p>97685 rows × 5 columns</p>\n",
       "</div>"
      ],
      "text/plain": [
       "                                                 content  \\\n",
       "0                              Here is our forecast\\n\\n    \n",
       "1      Traveling to have a business meeting takes the...   \n",
       "2                         test successful.  way to go!!!   \n",
       "3      Randy,\\n\\n Can you send me a schedule of the s...   \n",
       "4                    Let's shoot for Tuesday at 11:45.     \n",
       "...                                                  ...   \n",
       "98218  Effective 11/1/00 deliveries to Eastrans is 30...   \n",
       "98219  PW, \\n\\nHPL's spot and base purchases by zone ...   \n",
       "98220  The schedule is attached.  I will remind you a...   \n",
       "98221  Enron Methanol nominates the following natural...   \n",
       "98222  Attached is the November 2000 nomination for o...   \n",
       "\n",
       "                                                fcontent  \\\n",
       "0                                           ['forecast']   \n",
       "1      ['travel', 'business', 'meeting', 'take', 'fun...   \n",
       "2                          ['test', 'successful', 'way']   \n",
       "3      ['randy', 'send', 'schedule', 'salary', 'level...   \n",
       "4                            ['let', 'shoot', 'tuesday']   \n",
       "...                                                  ...   \n",
       "98218  ['effective', 'delivery', 'eastrans', 'mmbtudy...   \n",
       "98219  ['pw', 'hpls', 'spot', 'base', 'purchase', 'zo...   \n",
       "98220  ['schedule', 'attach', 'remind', 'day', 'advan...   \n",
       "98221  ['enron', 'methanol', 'nominate', 'follow', 'n...   \n",
       "98222  ['attached', 'november', 'nomination', 'take',...   \n",
       "\n",
       "                                                   topic  vader_sentiment  \\\n",
       "0      [(0, 0.012501605), (1, 0.012501605), (2, 0.012...         0.000000   \n",
       "1      [(0, 0.15656357), (1, 0.03257292), (2, 0.01856...         0.217700   \n",
       "2                     [(10, 0.2562595), (34, 0.5062273)]         0.195300   \n",
       "3      [(6, 0.120515056), (18, 0.19427584), (19, 0.16...         0.000000   \n",
       "4                    [(15, 0.34167174), (37, 0.3415987)]        -0.340000   \n",
       "...                                                  ...              ...   \n",
       "98218  [(9, 0.17084026), (18, 0.17078577), (19, 0.170...         0.476700   \n",
       "98219  [(8, 0.11305909), (11, 0.12829624), (15, 0.149...         0.000000   \n",
       "98220  [(0, 0.36822718), (20, 0.09971282), (25, 0.202...         0.000000   \n",
       "98221  [(5, 0.2574057), (8, 0.07809814), (18, 0.33238...         0.612400   \n",
       "98222  [(3, 0.1033487), (7, 0.2625391), (8, 0.0954066...         0.252867   \n",
       "\n",
       "       vader_sentiment_bin  \n",
       "0                  Neutral  \n",
       "1        Slightly Positive  \n",
       "2        Slightly Positive  \n",
       "3                  Neutral  \n",
       "4      Moderately Negative  \n",
       "...                    ...  \n",
       "98218  Moderately Positive  \n",
       "98219              Neutral  \n",
       "98220              Neutral  \n",
       "98221        Very Positive  \n",
       "98222    Slightly Positive  \n",
       "\n",
       "[97685 rows x 5 columns]"
      ]
     },
     "execution_count": 8,
     "metadata": {},
     "output_type": "execute_result"
    }
   ],
   "source": [
    "df2"
   ]
  },
  {
   "cell_type": "code",
   "execution_count": 9,
   "metadata": {},
   "outputs": [],
   "source": [
    "from operator import itemgetter\n",
    "def topic_max(a):\n",
    "    c=a[1:-1]\n",
    "    try:\n",
    "        \n",
    "        b=list(literal_eval(c))\n",
    "        if len(b) == 1:\n",
    "            idx = b[0][0]\n",
    "        else:\n",
    "            idx=  max(b,key=itemgetter(1))[0]\n",
    "        return topic_names[idx]\n",
    "    except:\n",
    "        print(a)"
   ]
  },
  {
   "cell_type": "code",
   "execution_count": 10,
   "metadata": {},
   "outputs": [],
   "source": [
    "def find_all(s,c):\n",
    "    idx1 = s.find(c)\n",
    "    while idx1 != -1:\n",
    "        yield idx1\n",
    "        idx1 = s.find(c,idx1+1)"
   ]
  },
  {
   "cell_type": "code",
   "execution_count": 11,
   "metadata": {},
   "outputs": [],
   "source": [
    "def topic2list(i, topic_names):\n",
    "    s = df2['topic'][i]\n",
    "    b1 = list(find_all(s,'('))\n",
    "    b2 = list(find_all(s,')'))\n",
    "    score = 0\n",
    "    for j in range(len(b1)):\n",
    "        t1,t2 = literal_eval(s[b1[j]:b2[j]+1])\n",
    "        if score < t2:\n",
    "            df2['Topic'][i] = topic_names[t1]\n",
    "            score = t2"
   ]
  },
  {
   "cell_type": "code",
   "execution_count": 12,
   "metadata": {},
   "outputs": [],
   "source": [
    "df2 =df2.reset_index()"
   ]
  },
  {
   "cell_type": "code",
   "execution_count": 13,
   "metadata": {},
   "outputs": [
    {
     "name": "stderr",
     "output_type": "stream",
     "text": [
      "<ipython-input-11-6debc602876b>:9: SettingWithCopyWarning: \n",
      "A value is trying to be set on a copy of a slice from a DataFrame\n",
      "\n",
      "See the caveats in the documentation: https://pandas.pydata.org/pandas-docs/stable/user_guide/indexing.html#returning-a-view-versus-a-copy\n",
      "  df2['Topic'][i] = topic_names[t1]\n"
     ]
    }
   ],
   "source": [
    "df2['Topic'] = ''\n",
    "topic_names = ['Winter Olympics', 'Human Accomplishments', 'Natural Disaster', 'Governance', 'Education', 'Navy', 'Games', 'Culture', 'Medieval History', 'Travel', 'Weaponry', 'London', 'Modern History', 'University', 'Football', 'Journalism', 'Archaeology', 'Volcano', 'Engineering', 'Towns', 'Zoology', 'Astronomy', 'Government', 'Empires', 'Nature', 'War', 'Infrastructure', 'Archives', 'Middle-East', 'Pacific War','Justice', 'Entertainment Industry', 'Ecology', 'Terhune', 'Literature', 'Royalty', 'Internal Affairs', 'Hunting', 'Labour Camps', 'Revolutionary War']\n",
    "for i in range(len(df2)):\n",
    "    topic2list(i,topic_names)"
   ]
  },
  {
   "cell_type": "code",
   "execution_count": 14,
   "metadata": {},
   "outputs": [
    {
     "data": {
      "text/plain": [
       "range(0, 97685)"
      ]
     },
     "execution_count": 14,
     "metadata": {},
     "output_type": "execute_result"
    }
   ],
   "source": [
    "range(len(df2))"
   ]
  },
  {
   "cell_type": "code",
   "execution_count": 15,
   "metadata": {},
   "outputs": [
    {
     "data": {
      "text/plain": [
       "index                                                              98222\n",
       "content                Attached is the November 2000 nomination for o...\n",
       "fcontent               ['attached', 'november', 'nomination', 'take',...\n",
       "topic                  [(3, 0.1033487), (7, 0.2625391), (8, 0.0954066...\n",
       "vader_sentiment                                                 0.252867\n",
       "vader_sentiment_bin                                    Slightly Positive\n",
       "Topic                                                            Culture\n",
       "Name: 97684, dtype: object"
      ]
     },
     "execution_count": 15,
     "metadata": {},
     "output_type": "execute_result"
    }
   ],
   "source": [
    "df2.iloc[(-1)]"
   ]
  },
  {
   "cell_type": "code",
   "execution_count": 16,
   "metadata": {},
   "outputs": [
    {
     "data": {
      "text/html": [
       "<div>\n",
       "<style scoped>\n",
       "    .dataframe tbody tr th:only-of-type {\n",
       "        vertical-align: middle;\n",
       "    }\n",
       "\n",
       "    .dataframe tbody tr th {\n",
       "        vertical-align: top;\n",
       "    }\n",
       "\n",
       "    .dataframe thead th {\n",
       "        text-align: right;\n",
       "    }\n",
       "</style>\n",
       "<table border=\"1\" class=\"dataframe\">\n",
       "  <thead>\n",
       "    <tr style=\"text-align: right;\">\n",
       "      <th></th>\n",
       "      <th>content</th>\n",
       "      <th>fcontent</th>\n",
       "      <th>topic</th>\n",
       "      <th>vader_sentiment</th>\n",
       "      <th>vader_sentiment_bin</th>\n",
       "    </tr>\n",
       "  </thead>\n",
       "  <tbody>\n",
       "    <tr>\n",
       "      <th>0</th>\n",
       "      <td>Here is our forecast\\n\\n</td>\n",
       "      <td>['forecast']</td>\n",
       "      <td>[(0, 0.012501605), (1, 0.012501605), (2, 0.012...</td>\n",
       "      <td>0.0000</td>\n",
       "      <td>Neutral</td>\n",
       "    </tr>\n",
       "    <tr>\n",
       "      <th>1</th>\n",
       "      <td>Traveling to have a business meeting takes the...</td>\n",
       "      <td>['travel', 'business', 'meeting', 'take', 'fun...</td>\n",
       "      <td>[(0, 0.15656357), (1, 0.03257292), (2, 0.01856...</td>\n",
       "      <td>0.2177</td>\n",
       "      <td>Slightly Positive</td>\n",
       "    </tr>\n",
       "    <tr>\n",
       "      <th>2</th>\n",
       "      <td>test successful.  way to go!!!</td>\n",
       "      <td>['test', 'successful', 'way']</td>\n",
       "      <td>[(10, 0.2562595), (34, 0.5062273)]</td>\n",
       "      <td>0.1953</td>\n",
       "      <td>Slightly Positive</td>\n",
       "    </tr>\n",
       "    <tr>\n",
       "      <th>3</th>\n",
       "      <td>Randy,\\n\\n Can you send me a schedule of the s...</td>\n",
       "      <td>['randy', 'send', 'schedule', 'salary', 'level...</td>\n",
       "      <td>[(6, 0.120515056), (18, 0.19427584), (19, 0.16...</td>\n",
       "      <td>0.0000</td>\n",
       "      <td>Neutral</td>\n",
       "    </tr>\n",
       "    <tr>\n",
       "      <th>4</th>\n",
       "      <td>Let's shoot for Tuesday at 11:45.</td>\n",
       "      <td>['let', 'shoot', 'tuesday']</td>\n",
       "      <td>[(15, 0.34167174), (37, 0.3415987)]</td>\n",
       "      <td>-0.3400</td>\n",
       "      <td>Moderately Negative</td>\n",
       "    </tr>\n",
       "    <tr>\n",
       "      <th>5</th>\n",
       "      <td>Greg,\\n\\n How about either next Tuesday or Thu...</td>\n",
       "      <td>['greg', 'tuesday', 'thursdayphillip']</td>\n",
       "      <td>[(0, 0.012504521), (1, 0.012504521), (2, 0.012...</td>\n",
       "      <td>0.0000</td>\n",
       "      <td>Neutral</td>\n",
       "    </tr>\n",
       "    <tr>\n",
       "      <th>6</th>\n",
       "      <td>Please cc the following distribution list with...</td>\n",
       "      <td>['cc', 'follow', 'distribution', 'list', 'upda...</td>\n",
       "      <td>[(9, 0.14559065), (21, 0.16008767), (28, 0.155...</td>\n",
       "      <td>0.7579</td>\n",
       "      <td>Very Positive</td>\n",
       "    </tr>\n",
       "    <tr>\n",
       "      <th>7</th>\n",
       "      <td>any morning between 10 and 11:30</td>\n",
       "      <td>['morning']</td>\n",
       "      <td>[(0, 0.012501082), (1, 0.012501082), (2, 0.012...</td>\n",
       "      <td>0.0000</td>\n",
       "      <td>Neutral</td>\n",
       "    </tr>\n",
       "    <tr>\n",
       "      <th>8</th>\n",
       "      <td>1. login:  pallen pw: ke9davis\\n\\n I don't thi...</td>\n",
       "      <td>['login', 'pallen', 'pw', 'kedavis', 'think', ...</td>\n",
       "      <td>[(8, 0.12815158), (18, 0.3756194), (27, 0.2544...</td>\n",
       "      <td>0.0000</td>\n",
       "      <td>Neutral</td>\n",
       "    </tr>\n",
       "    <tr>\n",
       "      <th>9</th>\n",
       "      <td>Mr. Buckner,\\n\\n For delivered gas behind San ...</td>\n",
       "      <td>['mr', 'buckner', 'deliver', 'gas', 'san', 'di...</td>\n",
       "      <td>[(1, 0.071773425), (7, 0.1056442), (14, 0.0722...</td>\n",
       "      <td>0.0876</td>\n",
       "      <td>Slightly Positive</td>\n",
       "    </tr>\n",
       "  </tbody>\n",
       "</table>\n",
       "</div>"
      ],
      "text/plain": [
       "                                             content  \\\n",
       "0                          Here is our forecast\\n\\n    \n",
       "1  Traveling to have a business meeting takes the...   \n",
       "2                     test successful.  way to go!!!   \n",
       "3  Randy,\\n\\n Can you send me a schedule of the s...   \n",
       "4                Let's shoot for Tuesday at 11:45.     \n",
       "5  Greg,\\n\\n How about either next Tuesday or Thu...   \n",
       "6  Please cc the following distribution list with...   \n",
       "7                   any morning between 10 and 11:30   \n",
       "8  1. login:  pallen pw: ke9davis\\n\\n I don't thi...   \n",
       "9  Mr. Buckner,\\n\\n For delivered gas behind San ...   \n",
       "\n",
       "                                            fcontent  \\\n",
       "0                                       ['forecast']   \n",
       "1  ['travel', 'business', 'meeting', 'take', 'fun...   \n",
       "2                      ['test', 'successful', 'way']   \n",
       "3  ['randy', 'send', 'schedule', 'salary', 'level...   \n",
       "4                        ['let', 'shoot', 'tuesday']   \n",
       "5             ['greg', 'tuesday', 'thursdayphillip']   \n",
       "6  ['cc', 'follow', 'distribution', 'list', 'upda...   \n",
       "7                                        ['morning']   \n",
       "8  ['login', 'pallen', 'pw', 'kedavis', 'think', ...   \n",
       "9  ['mr', 'buckner', 'deliver', 'gas', 'san', 'di...   \n",
       "\n",
       "                                               topic  vader_sentiment  \\\n",
       "0  [(0, 0.012501605), (1, 0.012501605), (2, 0.012...           0.0000   \n",
       "1  [(0, 0.15656357), (1, 0.03257292), (2, 0.01856...           0.2177   \n",
       "2                 [(10, 0.2562595), (34, 0.5062273)]           0.1953   \n",
       "3  [(6, 0.120515056), (18, 0.19427584), (19, 0.16...           0.0000   \n",
       "4                [(15, 0.34167174), (37, 0.3415987)]          -0.3400   \n",
       "5  [(0, 0.012504521), (1, 0.012504521), (2, 0.012...           0.0000   \n",
       "6  [(9, 0.14559065), (21, 0.16008767), (28, 0.155...           0.7579   \n",
       "7  [(0, 0.012501082), (1, 0.012501082), (2, 0.012...           0.0000   \n",
       "8  [(8, 0.12815158), (18, 0.3756194), (27, 0.2544...           0.0000   \n",
       "9  [(1, 0.071773425), (7, 0.1056442), (14, 0.0722...           0.0876   \n",
       "\n",
       "   vader_sentiment_bin  \n",
       "0              Neutral  \n",
       "1    Slightly Positive  \n",
       "2    Slightly Positive  \n",
       "3              Neutral  \n",
       "4  Moderately Negative  \n",
       "5              Neutral  \n",
       "6        Very Positive  \n",
       "7              Neutral  \n",
       "8              Neutral  \n",
       "9    Slightly Positive  "
      ]
     },
     "execution_count": 16,
     "metadata": {},
     "output_type": "execute_result"
    }
   ],
   "source": [
    "df.head(10)"
   ]
  },
  {
   "cell_type": "code",
   "execution_count": 17,
   "metadata": {},
   "outputs": [
    {
     "data": {
      "text/plain": [
       "vader_sentiment_bin  Topic                 \n",
       "Slightly Positive    Government                11672\n",
       "                     Entertainment Industry     8673\n",
       "Moderately Positive  Government                 4001\n",
       "                     Entertainment Industry     3536\n",
       "Slightly Positive    Literature                 3390\n",
       "                                               ...  \n",
       "Extremely Positive   Royalty                       1\n",
       "                     Weaponry                      1\n",
       "Extremely Negative   War                           1\n",
       "                     Engineering                   1\n",
       "                     Towns                         1\n",
       "Length: 318, dtype: int64"
      ]
     },
     "execution_count": 17,
     "metadata": {},
     "output_type": "execute_result"
    }
   ],
   "source": [
    "df2[['vader_sentiment_bin','Topic']].value_counts()"
   ]
  },
  {
   "cell_type": "code",
   "execution_count": 18,
   "metadata": {},
   "outputs": [],
   "source": [
    "def split_other_content(i):\n",
    "    \"\"\"split other forms of contents out\"\"\"\n",
    "    return i.split('---', 1)[0]\n",
    "df2['content'] = df2.content.map(split_other_content)"
   ]
  },
  {
   "cell_type": "code",
   "execution_count": 19,
   "metadata": {
    "scrolled": true
   },
   "outputs": [],
   "source": [
    "def split_other_content1(i):\n",
    "    \"\"\"split other forms of contents out\"\"\"\n",
    "    return i.split('To:', 1)[0]\n",
    "df2['content'] = df2.content.map(split_other_content1)"
   ]
  },
  {
   "cell_type": "code",
   "execution_count": 21,
   "metadata": {},
   "outputs": [],
   "source": [
    "c=0\n",
    "for i in range(len(df2)):\n",
    "    if len(df2['content'][i].split())>500:\n",
    "        df2 = df2.drop(i)\n",
    "        c += 1"
   ]
  },
  {
   "cell_type": "code",
   "execution_count": 22,
   "metadata": {
    "scrolled": true
   },
   "outputs": [
    {
     "data": {
      "text/plain": [
       "5430"
      ]
     },
     "execution_count": 22,
     "metadata": {},
     "output_type": "execute_result"
    }
   ],
   "source": [
    "c"
   ]
  },
  {
   "cell_type": "code",
   "execution_count": 23,
   "metadata": {},
   "outputs": [
    {
     "data": {
      "text/plain": [
       "92255"
      ]
     },
     "execution_count": 23,
     "metadata": {},
     "output_type": "execute_result"
    }
   ],
   "source": [
    "len(df2)"
   ]
  },
  {
   "cell_type": "code",
   "execution_count": 24,
   "metadata": {},
   "outputs": [],
   "source": [
    "df2 = df2[(df2.content != ' ')]"
   ]
  },
  {
   "cell_type": "code",
   "execution_count": 25,
   "metadata": {},
   "outputs": [
    {
     "data": {
      "text/plain": [
       "92192"
      ]
     },
     "execution_count": 25,
     "metadata": {},
     "output_type": "execute_result"
    }
   ],
   "source": [
    "len(df2)"
   ]
  },
  {
   "cell_type": "code",
   "execution_count": 26,
   "metadata": {},
   "outputs": [],
   "source": [
    "df2.to_csv('../data/complete_enron.csv')"
   ]
  },
  {
   "cell_type": "code",
   "execution_count": null,
   "metadata": {},
   "outputs": [],
   "source": []
  }
 ],
 "metadata": {
  "kernelspec": {
   "display_name": "Python 3",
   "language": "python",
   "name": "python3"
  },
  "language_info": {
   "codemirror_mode": {
    "name": "ipython",
    "version": 3
   },
   "file_extension": ".py",
   "mimetype": "text/x-python",
   "name": "python",
   "nbconvert_exporter": "python",
   "pygments_lexer": "ipython3",
   "version": "3.8.10"
  }
 },
 "nbformat": 4,
 "nbformat_minor": 4
}
