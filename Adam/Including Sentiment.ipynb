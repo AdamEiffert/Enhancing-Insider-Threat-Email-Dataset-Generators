{
 "cells": [
  {
   "cell_type": "code",
   "execution_count": 11,
   "metadata": {},
   "outputs": [
    {
     "name": "stderr",
     "output_type": "stream",
     "text": [
      "[nltk_data] Downloading package vader_lexicon to\n",
      "[nltk_data]     /home/work/nltk_data...\n",
      "[nltk_data]   Package vader_lexicon is already up-to-date!\n"
     ]
    }
   ],
   "source": [
    "import pandas as pd\n",
    "import numpy as np\n",
    "import nltk\n",
    "from nltk import tokenize\n",
    "from nltk.corpus import stopwords\n",
    "from nltk.corpus import wordnet\n",
    "from nltk.stem import WordNetLemmatizer, SnowballStemmer\n",
    "from nltk.stem.porter import *\n",
    "\n",
    "nltk.download('vader_lexicon')\n",
    "from nltk.sentiment.vader import SentimentIntensityAnalyzer\n",
    "\n",
    "analyzer = SentimentIntensityAnalyzer()"
   ]
  },
  {
   "cell_type": "code",
   "execution_count": 8,
   "metadata": {},
   "outputs": [
    {
     "data": {
      "text/html": [
       "<div>\n",
       "<style scoped>\n",
       "    .dataframe tbody tr th:only-of-type {\n",
       "        vertical-align: middle;\n",
       "    }\n",
       "\n",
       "    .dataframe tbody tr th {\n",
       "        vertical-align: top;\n",
       "    }\n",
       "\n",
       "    .dataframe thead th {\n",
       "        text-align: right;\n",
       "    }\n",
       "</style>\n",
       "<table border=\"1\" class=\"dataframe\">\n",
       "  <thead>\n",
       "    <tr style=\"text-align: right;\">\n",
       "      <th></th>\n",
       "      <th>Unnamed: 0</th>\n",
       "      <th>content</th>\n",
       "      <th>fcontent</th>\n",
       "      <th>topic</th>\n",
       "    </tr>\n",
       "  </thead>\n",
       "  <tbody>\n",
       "    <tr>\n",
       "      <th>0</th>\n",
       "      <td>0</td>\n",
       "      <td>Here is our forecast\\n\\n</td>\n",
       "      <td>['forecast']</td>\n",
       "      <td>[(0, 0.012501605), (1, 0.012501605), (2, 0.012...</td>\n",
       "    </tr>\n",
       "    <tr>\n",
       "      <th>1</th>\n",
       "      <td>1</td>\n",
       "      <td>Traveling to have a business meeting takes the...</td>\n",
       "      <td>['travel', 'business', 'meeting', 'take', 'fun...</td>\n",
       "      <td>[(0, 0.15656357), (1, 0.03257292), (2, 0.01856...</td>\n",
       "    </tr>\n",
       "    <tr>\n",
       "      <th>2</th>\n",
       "      <td>2</td>\n",
       "      <td>test successful.  way to go!!!</td>\n",
       "      <td>['test', 'successful', 'way']</td>\n",
       "      <td>[(10, 0.2562595), (34, 0.5062273)]</td>\n",
       "    </tr>\n",
       "    <tr>\n",
       "      <th>3</th>\n",
       "      <td>3</td>\n",
       "      <td>Randy,\\n\\n Can you send me a schedule of the s...</td>\n",
       "      <td>['randy', 'send', 'schedule', 'salary', 'level...</td>\n",
       "      <td>[(6, 0.120515056), (18, 0.19427584), (19, 0.16...</td>\n",
       "    </tr>\n",
       "    <tr>\n",
       "      <th>4</th>\n",
       "      <td>4</td>\n",
       "      <td>Let's shoot for Tuesday at 11:45.</td>\n",
       "      <td>['let', 'shoot', 'tuesday']</td>\n",
       "      <td>[(15, 0.34167174), (37, 0.3415987)]</td>\n",
       "    </tr>\n",
       "    <tr>\n",
       "      <th>...</th>\n",
       "      <td>...</td>\n",
       "      <td>...</td>\n",
       "      <td>...</td>\n",
       "      <td>...</td>\n",
       "    </tr>\n",
       "    <tr>\n",
       "      <th>98218</th>\n",
       "      <td>98218</td>\n",
       "      <td>Effective 11/1/00 deliveries to Eastrans is 30...</td>\n",
       "      <td>['effective', 'delivery', 'eastrans', 'mmbtudy...</td>\n",
       "      <td>[(9, 0.17084026), (18, 0.17078577), (19, 0.170...</td>\n",
       "    </tr>\n",
       "    <tr>\n",
       "      <th>98219</th>\n",
       "      <td>98219</td>\n",
       "      <td>PW, \\n\\nHPL's spot and base purchases by zone ...</td>\n",
       "      <td>['pw', 'hpls', 'spot', 'base', 'purchase', 'zo...</td>\n",
       "      <td>[(8, 0.11305909), (11, 0.12829624), (15, 0.149...</td>\n",
       "    </tr>\n",
       "    <tr>\n",
       "      <th>98220</th>\n",
       "      <td>98220</td>\n",
       "      <td>The schedule is attached.  I will remind you a...</td>\n",
       "      <td>['schedule', 'attach', 'remind', 'day', 'advan...</td>\n",
       "      <td>[(0, 0.36822718), (20, 0.09971282), (25, 0.202...</td>\n",
       "    </tr>\n",
       "    <tr>\n",
       "      <th>98221</th>\n",
       "      <td>98221</td>\n",
       "      <td>Enron Methanol nominates the following natural...</td>\n",
       "      <td>['enron', 'methanol', 'nominate', 'follow', 'n...</td>\n",
       "      <td>[(5, 0.2574057), (8, 0.07809814), (18, 0.33238...</td>\n",
       "    </tr>\n",
       "    <tr>\n",
       "      <th>98222</th>\n",
       "      <td>98222</td>\n",
       "      <td>Attached is the November 2000 nomination for o...</td>\n",
       "      <td>['attached', 'november', 'nomination', 'take',...</td>\n",
       "      <td>[(3, 0.1033487), (7, 0.2625391), (8, 0.0954066...</td>\n",
       "    </tr>\n",
       "  </tbody>\n",
       "</table>\n",
       "<p>98223 rows × 4 columns</p>\n",
       "</div>"
      ],
      "text/plain": [
       "       Unnamed: 0                                            content  \\\n",
       "0               0                          Here is our forecast\\n\\n    \n",
       "1               1  Traveling to have a business meeting takes the...   \n",
       "2               2                     test successful.  way to go!!!   \n",
       "3               3  Randy,\\n\\n Can you send me a schedule of the s...   \n",
       "4               4                Let's shoot for Tuesday at 11:45.     \n",
       "...           ...                                                ...   \n",
       "98218       98218  Effective 11/1/00 deliveries to Eastrans is 30...   \n",
       "98219       98219  PW, \\n\\nHPL's spot and base purchases by zone ...   \n",
       "98220       98220  The schedule is attached.  I will remind you a...   \n",
       "98221       98221  Enron Methanol nominates the following natural...   \n",
       "98222       98222  Attached is the November 2000 nomination for o...   \n",
       "\n",
       "                                                fcontent  \\\n",
       "0                                           ['forecast']   \n",
       "1      ['travel', 'business', 'meeting', 'take', 'fun...   \n",
       "2                          ['test', 'successful', 'way']   \n",
       "3      ['randy', 'send', 'schedule', 'salary', 'level...   \n",
       "4                            ['let', 'shoot', 'tuesday']   \n",
       "...                                                  ...   \n",
       "98218  ['effective', 'delivery', 'eastrans', 'mmbtudy...   \n",
       "98219  ['pw', 'hpls', 'spot', 'base', 'purchase', 'zo...   \n",
       "98220  ['schedule', 'attach', 'remind', 'day', 'advan...   \n",
       "98221  ['enron', 'methanol', 'nominate', 'follow', 'n...   \n",
       "98222  ['attached', 'november', 'nomination', 'take',...   \n",
       "\n",
       "                                                   topic  \n",
       "0      [(0, 0.012501605), (1, 0.012501605), (2, 0.012...  \n",
       "1      [(0, 0.15656357), (1, 0.03257292), (2, 0.01856...  \n",
       "2                     [(10, 0.2562595), (34, 0.5062273)]  \n",
       "3      [(6, 0.120515056), (18, 0.19427584), (19, 0.16...  \n",
       "4                    [(15, 0.34167174), (37, 0.3415987)]  \n",
       "...                                                  ...  \n",
       "98218  [(9, 0.17084026), (18, 0.17078577), (19, 0.170...  \n",
       "98219  [(8, 0.11305909), (11, 0.12829624), (15, 0.149...  \n",
       "98220  [(0, 0.36822718), (20, 0.09971282), (25, 0.202...  \n",
       "98221  [(5, 0.2574057), (8, 0.07809814), (18, 0.33238...  \n",
       "98222  [(3, 0.1033487), (7, 0.2625391), (8, 0.0954066...  \n",
       "\n",
       "[98223 rows x 4 columns]"
      ]
     },
     "execution_count": 8,
     "metadata": {},
     "output_type": "execute_result"
    }
   ],
   "source": [
    "data = pd.read_csv('../data/topic_enron.csv')\n",
    "data"
   ]
  },
  {
   "cell_type": "markdown",
   "metadata": {},
   "source": [
    "# Setting up the sentiment analysis\n",
    "We first define a function for analysing an email via VADER."
   ]
  },
  {
   "cell_type": "code",
   "execution_count": 21,
   "metadata": {},
   "outputs": [],
   "source": [
    "def vader_analyzer(doc):\n",
    "    analyzer = SentimentIntensityAnalyzer()\n",
    "    df = pd.DataFrame(columns=['Sentiment'])\n",
    "    sentences = tokenize.sent_tokenize(doc)\n",
    "    total_sentiment = 0\n",
    "    if not(sentences == []):\n",
    "        sentiments = [analyzer.polarity_scores(sentence)['compound'] for sentence in sentences]\n",
    "        total_sentiment = sum(sentiments)/len(sentiments)\n",
    "    else:\n",
    "        toatl_sentiment = -2\n",
    "    return total_sentiment"
   ]
  },
  {
   "cell_type": "code",
   "execution_count": 22,
   "metadata": {},
   "outputs": [],
   "source": [
    "data['vader_sentiment'] = np.vectorize(vader_analyzer)(data['content'])"
   ]
  },
  {
   "cell_type": "markdown",
   "metadata": {},
   "source": [
    "We now create the setiment bins."
   ]
  },
  {
   "cell_type": "code",
   "execution_count": 23,
   "metadata": {},
   "outputs": [
    {
     "data": {
      "text/plain": [
       "array([-0.7625, -0.525 , -0.2875, -0.05  ])"
      ]
     },
     "execution_count": 23,
     "metadata": {},
     "output_type": "execute_result"
    }
   ],
   "source": [
    "neg_sent_bins = np.linspace(-1,-0.05,5)[1:]\n",
    "neg_sent_bins"
   ]
  },
  {
   "cell_type": "code",
   "execution_count": 24,
   "metadata": {},
   "outputs": [
    {
     "data": {
      "text/plain": [
       "array([0.7625, 0.525 , 0.2875, 0.05  ])"
      ]
     },
     "execution_count": 24,
     "metadata": {},
     "output_type": "execute_result"
    }
   ],
   "source": [
    "pos_sent_bins = -neg_sent_bins[0:]\n",
    "pos_sent_bins"
   ]
  },
  {
   "cell_type": "code",
   "execution_count": 25,
   "metadata": {},
   "outputs": [
    {
     "data": {
      "text/plain": [
       "array([ 0.7625,  0.525 ,  0.2875,  0.05  , -0.05  , -0.2875, -0.525 ,\n",
       "       -0.7625])"
      ]
     },
     "execution_count": 25,
     "metadata": {},
     "output_type": "execute_result"
    }
   ],
   "source": [
    "sb=np.append(pos_sent_bins,np.flip(neg_sent_bins))\n",
    "sb"
   ]
  },
  {
   "cell_type": "code",
   "execution_count": 26,
   "metadata": {},
   "outputs": [],
   "source": [
    "s_intensity = ['Extremely','Very','Moderately','Slightly']\n",
    "s_label = ['Positive','Negative']\n",
    "s_order = [intensity+' '+label for label in s_label[::-1] for intensity in s_intensity]\n",
    "s_order.insert(4,'Neutral')"
   ]
  },
  {
   "cell_type": "code",
   "execution_count": 27,
   "metadata": {},
   "outputs": [
    {
     "data": {
      "text/plain": [
       "['Extremely Negative',\n",
       " 'Very Negative',\n",
       " 'Moderately Negative',\n",
       " 'Slightly Negative',\n",
       " 'Neutral',\n",
       " 'Slightly Positive',\n",
       " 'Moderately Positive',\n",
       " 'Very Positive',\n",
       " 'Extremely Positive']"
      ]
     },
     "execution_count": 27,
     "metadata": {},
     "output_type": "execute_result"
    }
   ],
   "source": [
    "neg_order = [intensity+' '+'Negative' for intensity in s_intensity]\n",
    "pos_order = [intensity+' '+'Positive' for intensity in s_intensity[::-1]]\n",
    "\n",
    "s_order= neg_order + ['Neutral'] + pos_order\n",
    "s_order"
   ]
  },
  {
   "cell_type": "markdown",
   "metadata": {},
   "source": [
    "We now convert the VADER sentiment into VADER sentiment bins. "
   ]
  },
  {
   "cell_type": "code",
   "execution_count": 28,
   "metadata": {},
   "outputs": [],
   "source": [
    "import math"
   ]
  },
  {
   "cell_type": "code",
   "execution_count": 29,
   "metadata": {},
   "outputs": [],
   "source": [
    "def sentimentLabel(sentiment):\n",
    "    abs_sent = abs(sentiment)\n",
    "    \n",
    "    if abs_sent<=0.05:\n",
    "        return 'Neutral'\n",
    "    else:\n",
    "        i = math.ceil(sentiment)-1\n",
    "        label = s_label[i]\n",
    "        ii = [abs_sent>x for x in pos_sent_bins].index(True)\n",
    "        intensity = s_intensity[ii]\n",
    "        \n",
    "        return '{} {}'.format(intensity,label)"
   ]
  },
  {
   "cell_type": "code",
   "execution_count": 30,
   "metadata": {},
   "outputs": [],
   "source": [
    "data['vader_sentiment_bin'] = np.vectorize(sentimentLabel)(data['vader_sentiment'])"
   ]
  },
  {
   "cell_type": "code",
   "execution_count": 40,
   "metadata": {},
   "outputs": [],
   "source": [
    "data.drop(columns='Unnamed: 0').to_csv('../data/both_enron.csv')"
   ]
  },
  {
   "cell_type": "code",
   "execution_count": null,
   "metadata": {},
   "outputs": [],
   "source": []
  }
 ],
 "metadata": {
  "kernelspec": {
   "display_name": "Python 3",
   "language": "python",
   "name": "python3"
  },
  "language_info": {
   "codemirror_mode": {
    "name": "ipython",
    "version": 3
   },
   "file_extension": ".py",
   "mimetype": "text/x-python",
   "name": "python",
   "nbconvert_exporter": "python",
   "pygments_lexer": "ipython3",
   "version": "3.8.10"
  }
 },
 "nbformat": 4,
 "nbformat_minor": 5
}
