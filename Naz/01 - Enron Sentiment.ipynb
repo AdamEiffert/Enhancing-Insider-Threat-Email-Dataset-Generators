{
 "cells": [
  {
   "cell_type": "code",
   "execution_count": 1,
   "id": "32db8dc0-3e0c-4fb7-892c-f90842366ccb",
   "metadata": {},
   "outputs": [],
   "source": [
    "import random\n",
    "import math\n",
    "import time\n",
    "import pandas as pd\n",
    "import numpy as np\n",
    "import matplotlib.pyplot as plt\n",
    "\n",
    "import stanza \n",
    "\n",
    "import gensim\n",
    "from gensim.utils import simple_preprocess\n",
    "from gensim.parsing.preprocessing import STOPWORDS\n",
    "\n",
    "import pyLDAvis.gensim_models as gensimvis\n",
    "import pyLDAvis\n",
    "\n",
    "import nltk\n",
    "from nltk import tokenize\n",
    "from nltk.corpus import stopwords\n",
    "from nltk.corpus import wordnet\n",
    "from nltk.stem import WordNetLemmatizer, SnowballStemmer\n",
    "from nltk.stem.porter import *\n",
    "\n",
    "from sklearn.metrics import roc_curve\n",
    "from sklearn.metrics import roc_auc_score\n",
    "from sklearn import svm\n",
    "from sklearn.preprocessing import scale\n",
    "from sklearn.metrics import confusion_matrix, classification_report"
   ]
  },
  {
   "cell_type": "markdown",
   "id": "769a3fc1",
   "metadata": {},
   "source": [
    "Previous Enron Cleaning Notebook needs to be run before this."
   ]
  },
  {
   "cell_type": "code",
   "execution_count": 125,
   "id": "435c792d-5c01-490c-9771-5ee3bb9f5461",
   "metadata": {},
   "outputs": [],
   "source": [
    "training_df = pd.read_pickle('../Data/training_df.pkl')"
   ]
  },
  {
   "cell_type": "code",
   "execution_count": 126,
   "id": "736102c7",
   "metadata": {},
   "outputs": [
    {
     "data": {
      "text/html": [
       "<div>\n",
       "<style scoped>\n",
       "    .dataframe tbody tr th:only-of-type {\n",
       "        vertical-align: middle;\n",
       "    }\n",
       "\n",
       "    .dataframe tbody tr th {\n",
       "        vertical-align: top;\n",
       "    }\n",
       "\n",
       "    .dataframe thead th {\n",
       "        text-align: right;\n",
       "    }\n",
       "</style>\n",
       "<table border=\"1\" class=\"dataframe\">\n",
       "  <thead>\n",
       "    <tr style=\"text-align: right;\">\n",
       "      <th></th>\n",
       "      <th>Date</th>\n",
       "      <th>From</th>\n",
       "      <th>To</th>\n",
       "      <th>Subject</th>\n",
       "      <th>X-From</th>\n",
       "      <th>X-To</th>\n",
       "      <th>X-cc</th>\n",
       "      <th>X-bcc</th>\n",
       "      <th>Cc</th>\n",
       "      <th>Bcc</th>\n",
       "      <th>Message</th>\n",
       "    </tr>\n",
       "  </thead>\n",
       "  <tbody>\n",
       "    <tr>\n",
       "      <th>293762</th>\n",
       "      <td>01-01-1997 09:22:03</td>\n",
       "      <td>laurinh@prodigy.net</td>\n",
       "      <td>m..love@enron.com</td>\n",
       "      <td>item#1065594740</td>\n",
       "      <td>\"laurin hayes\" &lt;laurinh@prodigy.net&gt;@enron</td>\n",
       "      <td>love, phillip m. &lt;/o=enron/ou=na/cn=recipients...</td>\n",
       "      <td>ebay customer support &lt;queue@ebay.com&gt;</td>\n",
       "      <td></td>\n",
       "      <td>queue@ebay.com</td>\n",
       "      <td>queue@ebay.com</td>\n",
       "      <td>\\nIt's clear the Ebay made the error in this  ...</td>\n",
       "    </tr>\n",
       "    <tr>\n",
       "      <th>22451</th>\n",
       "      <td>01-01-2000 06:36:00</td>\n",
       "      <td>sally.beck@enron.com</td>\n",
       "      <td>fernley.dyson@enron.com</td>\n",
       "      <td>Happy New Year - No Y2K Fear!</td>\n",
       "      <td>sally beck</td>\n",
       "      <td>fernley dyson</td>\n",
       "      <td></td>\n",
       "      <td></td>\n",
       "      <td>NaN</td>\n",
       "      <td>NaN</td>\n",
       "      <td>We are wrapping up several hours in the office...</td>\n",
       "    </tr>\n",
       "  </tbody>\n",
       "</table>\n",
       "</div>"
      ],
      "text/plain": [
       "                       Date                  From                       To  \\\n",
       "293762  01-01-1997 09:22:03   laurinh@prodigy.net        m..love@enron.com   \n",
       "22451   01-01-2000 06:36:00  sally.beck@enron.com  fernley.dyson@enron.com   \n",
       "\n",
       "                              Subject  \\\n",
       "293762                item#1065594740   \n",
       "22451   Happy New Year - No Y2K Fear!   \n",
       "\n",
       "                                            X-From  \\\n",
       "293762  \"laurin hayes\" <laurinh@prodigy.net>@enron   \n",
       "22451                                   sally beck   \n",
       "\n",
       "                                                     X-To  \\\n",
       "293762  love, phillip m. </o=enron/ou=na/cn=recipients...   \n",
       "22451                                       fernley dyson   \n",
       "\n",
       "                                          X-cc X-bcc              Cc  \\\n",
       "293762  ebay customer support <queue@ebay.com>        queue@ebay.com   \n",
       "22451                                                            NaN   \n",
       "\n",
       "                   Bcc                                            Message  \n",
       "293762  queue@ebay.com  \\nIt's clear the Ebay made the error in this  ...  \n",
       "22451              NaN  We are wrapping up several hours in the office...  "
      ]
     },
     "execution_count": 126,
     "metadata": {},
     "output_type": "execute_result"
    }
   ],
   "source": [
    "training_df.head(2)"
   ]
  },
  {
   "cell_type": "code",
   "execution_count": 127,
   "id": "f1c1a231",
   "metadata": {},
   "outputs": [],
   "source": [
    "#take only emails and create new df for manipulation\n",
    "data = pd.DataFrame(training_df['Message'].copy())\n",
    "data.columns=['email']"
   ]
  },
  {
   "cell_type": "code",
   "execution_count": 128,
   "id": "1f4e2193-a21f-4277-b7d8-4ec77b7b578c",
   "metadata": {},
   "outputs": [
    {
     "data": {
      "text/html": [
       "<div>\n",
       "<style scoped>\n",
       "    .dataframe tbody tr th:only-of-type {\n",
       "        vertical-align: middle;\n",
       "    }\n",
       "\n",
       "    .dataframe tbody tr th {\n",
       "        vertical-align: top;\n",
       "    }\n",
       "\n",
       "    .dataframe thead th {\n",
       "        text-align: right;\n",
       "    }\n",
       "</style>\n",
       "<table border=\"1\" class=\"dataframe\">\n",
       "  <thead>\n",
       "    <tr style=\"text-align: right;\">\n",
       "      <th></th>\n",
       "      <th>email</th>\n",
       "    </tr>\n",
       "  </thead>\n",
       "  <tbody>\n",
       "    <tr>\n",
       "      <th>293762</th>\n",
       "      <td>\\nIt's clear the Ebay made the error in this  ...</td>\n",
       "    </tr>\n",
       "    <tr>\n",
       "      <th>22451</th>\n",
       "      <td>We are wrapping up several hours in the office...</td>\n",
       "    </tr>\n",
       "    <tr>\n",
       "      <th>125372</th>\n",
       "      <td>email problems, No temps yet, same as for cast\\n</td>\n",
       "    </tr>\n",
       "    <tr>\n",
       "      <th>284821</th>\n",
       "      <td>VITA Volunteers The Volunteer Income Tax Assis...</td>\n",
       "    </tr>\n",
       "    <tr>\n",
       "      <th>3064</th>\n",
       "      <td>if we were open today, where would you open it?</td>\n",
       "    </tr>\n",
       "  </tbody>\n",
       "</table>\n",
       "</div>"
      ],
      "text/plain": [
       "                                                    email\n",
       "293762  \\nIt's clear the Ebay made the error in this  ...\n",
       "22451   We are wrapping up several hours in the office...\n",
       "125372   email problems, No temps yet, same as for cast\\n\n",
       "284821  VITA Volunteers The Volunteer Income Tax Assis...\n",
       "3064      if we were open today, where would you open it?"
      ]
     },
     "execution_count": 128,
     "metadata": {},
     "output_type": "execute_result"
    }
   ],
   "source": [
    "data.head()"
   ]
  },
  {
   "cell_type": "markdown",
   "id": "d2d873c7",
   "metadata": {},
   "source": [
    "Loading in NLTK and Stanza"
   ]
  },
  {
   "cell_type": "code",
   "execution_count": 6,
   "id": "fa942c57",
   "metadata": {},
   "outputs": [
    {
     "name": "stderr",
     "output_type": "stream",
     "text": [
      "[nltk_data] Downloading package vader_lexicon to\n",
      "[nltk_data]     C:\\Users\\Mohammed\\AppData\\Roaming\\nltk_data...\n",
      "[nltk_data]   Package vader_lexicon is already up-to-date!\n"
     ]
    }
   ],
   "source": [
    "nltk.download('vader_lexicon')\n",
    "from nltk.sentiment.vader import SentimentIntensityAnalyzer"
   ]
  },
  {
   "cell_type": "code",
   "execution_count": 7,
   "id": "01f109dc",
   "metadata": {},
   "outputs": [],
   "source": [
    "analyzer = SentimentIntensityAnalyzer()"
   ]
  },
  {
   "cell_type": "code",
   "execution_count": 8,
   "id": "536c12b3",
   "metadata": {},
   "outputs": [
    {
     "data": {
      "application/vnd.jupyter.widget-view+json": {
       "model_id": "7b0c3704ddcf49c485bde63a8ea4885d",
       "version_major": 2,
       "version_minor": 0
      },
      "text/plain": [
       "Downloading https://raw.githubusercontent.com/stanfordnlp/stanza-resources/main/resources_1.4.0.json:   0%|   …"
      ]
     },
     "metadata": {},
     "output_type": "display_data"
    },
    {
     "name": "stderr",
     "output_type": "stream",
     "text": [
      "2022-09-10 23:22:50 INFO: Loading these models for language: en (English):\n",
      "========================\n",
      "| Processor | Package  |\n",
      "------------------------\n",
      "| tokenize  | combined |\n",
      "| sentiment | sstplus  |\n",
      "========================\n",
      "\n",
      "2022-09-10 23:22:50 INFO: Use device: cpu\n",
      "2022-09-10 23:22:50 INFO: Loading: tokenize\n",
      "2022-09-10 23:22:50 INFO: Loading: sentiment\n",
      "2022-09-10 23:22:51 INFO: Done loading processors!\n"
     ]
    }
   ],
   "source": [
    "nlp = stanza.Pipeline(lang='en',processors='tokenize,sentiment')"
   ]
  },
  {
   "cell_type": "code",
   "execution_count": 9,
   "id": "ce770db2",
   "metadata": {},
   "outputs": [],
   "source": [
    "doc_0 = data.email.iloc[0]"
   ]
  },
  {
   "cell_type": "code",
   "execution_count": 10,
   "id": "c1c95103",
   "metadata": {},
   "outputs": [
    {
     "name": "stdout",
     "output_type": "stream",
     "text": [
      "\n",
      "It's clear the Ebay made the error in this  matter.\n",
      "They are not being forthcoming about it however. I'am  continuing to communicate with them but they are being less that  honest.\n",
      "I am not going to pay what I did not bid.\n",
      "Since Ebay is the culprit here we are caught in the middle  \n",
      "I'd refrain from leaving any negative at my site, until this  matter can be resolved, since I would have to respond in  kind.\n"
     ]
    }
   ],
   "source": [
    "print(doc_0)"
   ]
  },
  {
   "cell_type": "markdown",
   "id": "cee0f046",
   "metadata": {},
   "source": [
    "There coincidentally happened to be a mistake in this email (an actual human typo of 'that' instead of 'than' in the second line). This affects the sentiment results. The correction is made below to highlight this."
   ]
  },
  {
   "cell_type": "code",
   "execution_count": 11,
   "id": "6830bb47",
   "metadata": {},
   "outputs": [],
   "source": [
    "doc_corr = '''\\nIt's clear the Ebay made the error in this  matter.\\nThey are not being forthcoming about it however. I'am  continuing to communicate with them but they are being less than honest.\\nI am not going to pay what I did not bid.\\nSince Ebay is the culprit here we are caught in the middle  \\nI'd refrain from leaving any negative at my site, until this  matter can be resolved, since I would have to respond in  kind.'''"
   ]
  },
  {
   "cell_type": "code",
   "execution_count": 129,
   "id": "ac9747d4",
   "metadata": {},
   "outputs": [],
   "source": [
    "#stanza sentiment analyzer for each sentence and average\n",
    "def stanza_analyzer_iter(doc):\n",
    "    doc = nlp(doc)\n",
    "    sentiment=0\n",
    "    for sentence in doc.sentences:\n",
    "        print(sentence.text)\n",
    "        #stanza returns 0,1,2 for neg,neu,pos respectively\n",
    "        #however -1,0,1 for neg,neu, pos makes more sense\n",
    "        ss=sentence.sentiment-1\n",
    "        sentiment+=ss\n",
    "        print(ss)\n",
    "        print()\n",
    "    print('**Average Sentiment**   :', sentiment/len(doc.sentences))"
   ]
  },
  {
   "cell_type": "code",
   "execution_count": 130,
   "id": "ed4aa71a",
   "metadata": {},
   "outputs": [],
   "source": [
    "#vader sentiment analyzer for each sentence and average\n",
    "def vader_analyzer_iter(doc):\n",
    "    sentences = tokenize.sent_tokenize(doc)\n",
    "    sentiment=0\n",
    "    for sentence in sentences:\n",
    "        ss = analyzer.polarity_scores(sentence)['compound']\n",
    "        sentiment+=ss\n",
    "        print(sentence)\n",
    "        print(ss)\n",
    "        print()\n",
    "    print('**Average Sentiment**   :',sentiment/len(sentences))"
   ]
  },
  {
   "cell_type": "markdown",
   "id": "cbd3cbb5",
   "metadata": {},
   "source": [
    "Results on doc with and without error:"
   ]
  },
  {
   "cell_type": "code",
   "execution_count": 131,
   "id": "57914b0d",
   "metadata": {},
   "outputs": [
    {
     "name": "stdout",
     "output_type": "stream",
     "text": [
      "It's clear the Ebay made the error in this  matter.\n",
      "0\n",
      "\n",
      "They are not being forthcoming about it however.\n",
      "0\n",
      "\n",
      "I'am  continuing to communicate with them but they are being less that  honest.\n",
      "1\n",
      "\n",
      "I am not going to pay what I did not bid.\n",
      "-1\n",
      "\n",
      "Since Ebay is the culprit here we are caught in the middle  \n",
      "I'd refrain from leaving any negative at my site, until this  matter can be resolved, since I would have to respond in  kind.\n",
      "-1\n",
      "\n",
      "**Average Sentiment**   : -0.2\n"
     ]
    }
   ],
   "source": [
    "stanza_analyzer_iter(doc_0)"
   ]
  },
  {
   "cell_type": "code",
   "execution_count": 132,
   "id": "c924767f",
   "metadata": {},
   "outputs": [
    {
     "name": "stdout",
     "output_type": "stream",
     "text": [
      "It's clear the Ebay made the error in this  matter.\n",
      "0\n",
      "\n",
      "They are not being forthcoming about it however.\n",
      "0\n",
      "\n",
      "I'am  continuing to communicate with them but they are being less than honest.\n",
      "-1\n",
      "\n",
      "I am not going to pay what I did not bid.\n",
      "-1\n",
      "\n",
      "Since Ebay is the culprit here we are caught in the middle  \n",
      "I'd refrain from leaving any negative at my site, until this  matter can be resolved, since I would have to respond in  kind.\n",
      "-1\n",
      "\n",
      "**Average Sentiment**   : -0.6\n"
     ]
    }
   ],
   "source": [
    "stanza_analyzer_iter(doc_corr)"
   ]
  },
  {
   "cell_type": "markdown",
   "id": "5e5d6889",
   "metadata": {},
   "source": [
    "Stanza result goes from -0.2 ('Slightly Negative') to -0.6 ('Very Negative')"
   ]
  },
  {
   "cell_type": "markdown",
   "id": "b4b42093",
   "metadata": {},
   "source": [
    "For VADER:"
   ]
  },
  {
   "cell_type": "code",
   "execution_count": 210,
   "id": "cda598b5",
   "metadata": {},
   "outputs": [
    {
     "name": "stdout",
     "output_type": "stream",
     "text": [
      "\n",
      "It's clear the Ebay made the error in this  matter.\n",
      "0.0\n",
      "\n",
      "They are not being forthcoming about it however.\n",
      "0.0\n",
      "\n",
      "I'am  continuing to communicate with them but they are being less that  honest.\n",
      "0.6165\n",
      "\n",
      "I am not going to pay what I did not bid.\n",
      "0.0762\n",
      "\n",
      "Since Ebay is the culprit here we are caught in the middle  \n",
      "I'd refrain from leaving any negative at my site, until this  matter can be resolved, since I would have to respond in  kind.\n",
      "0.1343\n",
      "\n",
      "**Average Sentiment**   : 0.16540000000000002\n"
     ]
    }
   ],
   "source": [
    "vader_analyzer_iter(doc_0)"
   ]
  },
  {
   "cell_type": "code",
   "execution_count": 211,
   "id": "7411be50",
   "metadata": {},
   "outputs": [
    {
     "name": "stdout",
     "output_type": "stream",
     "text": [
      "\n",
      "It's clear the Ebay made the error in this  matter.\n",
      "0.0\n",
      "\n",
      "They are not being forthcoming about it however.\n",
      "0.0\n",
      "\n",
      "I'am  continuing to communicate with them but they are being less than honest.\n",
      "0.6165\n",
      "\n",
      "I am not going to pay what I did not bid.\n",
      "0.0762\n",
      "\n",
      "Since Ebay is the culprit here we are caught in the middle  \n",
      "I'd refrain from leaving any negative at my site, until this  matter can be resolved, since I would have to respond in  kind.\n",
      "0.1343\n",
      "\n",
      "**Average Sentiment**   : 0.16540000000000002\n"
     ]
    }
   ],
   "source": [
    "vader_analyzer_iter(doc_corr)"
   ]
  },
  {
   "cell_type": "markdown",
   "id": "72b4e275",
   "metadata": {},
   "source": [
    "VADER sentiment stays exactly the same. Stanza seems more robust in understanding that this email specifically is Negative, while VADER sees it as 'Slightly Positive'."
   ]
  },
  {
   "cell_type": "markdown",
   "id": "deab3e0a",
   "metadata": {},
   "source": [
    "### Adding Sentiment to DataFrame"
   ]
  },
  {
   "cell_type": "code",
   "execution_count": 14,
   "id": "c92c66bc",
   "metadata": {},
   "outputs": [],
   "source": [
    "#vader analyzer returning only average sentiment\n",
    "def vader_analyzer(doc):\n",
    "    analyzer = SentimentIntensityAnalyzer()\n",
    "    sentences = tokenize.sent_tokenize(doc)\n",
    "    avg_sent = sum([analyzer.polarity_scores(sentence)['compound']\n",
    "                    for sentence in sentences])/len(sentences)\n",
    "    \n",
    "    return avg_sent"
   ]
  },
  {
   "cell_type": "code",
   "execution_count": 15,
   "id": "664af9f9",
   "metadata": {},
   "outputs": [],
   "source": [
    "#stanza analyzer returning only average sentiment\n",
    "def stanza_analyzer(doc):\n",
    "    doc = nlp(doc)\n",
    "    avg_sent = sum([sentence.sentiment-1\n",
    "                   for sentence in doc.sentences])/len(doc.sentences)\n",
    "    \n",
    "    return avg_sent"
   ]
  },
  {
   "cell_type": "markdown",
   "id": "475df79d",
   "metadata": {},
   "source": [
    "Code below is commented out because it takes *A LONG TIME* to run. The VADER section took \\~1100 seconds (<20 minutes) but the Stanza section takes \\~36,000 seconds (~10 hours). This will obviously vary between devices."
   ]
  },
  {
   "cell_type": "code",
   "execution_count": 31,
   "id": "0113c6b8",
   "metadata": {},
   "outputs": [
    {
     "name": "stdout",
     "output_type": "stream",
     "text": [
      "Vader runtime: 1110.7918484210968\n",
      "Stanza runtime: 36083.866980314255\n"
     ]
    }
   ],
   "source": [
    "# v_start = time.time()\n",
    "# data['vader_sentiment'] = np.vectorize(vader_analyzer)(data['email'])\n",
    "# v_end = time.time()\n",
    "# print('Vader runtime:', v_end-v_start)\n",
    "\n",
    "# s_start = time.time()\n",
    "# data['stanza_sentiment'] = np.vectorize(stanza_analyzer)(data['email'])\n",
    "# s_end = time.time()\n",
    "# print('Stanza runtime:', s_end-s_start)"
   ]
  },
  {
   "cell_type": "markdown",
   "id": "1dd24ee8",
   "metadata": {},
   "source": [
    "Save DataFrame for easier loading-in later"
   ]
  },
  {
   "cell_type": "code",
   "execution_count": 46,
   "id": "5f4cf365",
   "metadata": {},
   "outputs": [],
   "source": [
    "data.to_csv('../Data/savedsent.csv')"
   ]
  },
  {
   "cell_type": "markdown",
   "id": "8e30fc52",
   "metadata": {},
   "source": [
    "Load DataFrame"
   ]
  },
  {
   "cell_type": "code",
   "execution_count": 136,
   "id": "9ffaa30b",
   "metadata": {},
   "outputs": [],
   "source": [
    "data = pd.read_csv('../Data/savedsent.csv')"
   ]
  },
  {
   "cell_type": "markdown",
   "id": "e5a8e2e6",
   "metadata": {},
   "source": [
    "### Creating Sentiment Bins"
   ]
  },
  {
   "cell_type": "markdown",
   "id": "d3c5b279",
   "metadata": {},
   "source": [
    "Setting the sentiment score of $[-0.05,0.05]$ to be assigned for neutral emails, we then equidistantly space $[-1,-0.05)$ for Negative intensities, and the same for Positives."
   ]
  },
  {
   "cell_type": "code",
   "execution_count": 142,
   "id": "d601bb65",
   "metadata": {},
   "outputs": [
    {
     "data": {
      "text/plain": [
       "array([-0.7625, -0.525 , -0.2875, -0.05  ])"
      ]
     },
     "execution_count": 142,
     "metadata": {},
     "output_type": "execute_result"
    }
   ],
   "source": [
    "neg_sent_bins = np.linspace(-1,-0.05,5)[1:]\n",
    "neg_sent_bins"
   ]
  },
  {
   "cell_type": "markdown",
   "id": "63fbdd5e",
   "metadata": {},
   "source": [
    "Anything below:\n",
    " - -0.7625 is Extremely Negative, \n",
    " - -0.525 is Very Negative,\n",
    " - -0.2875 is Moderately Negative,\n",
    " - -0.05 is Slightly Negative."
   ]
  },
  {
   "cell_type": "markdown",
   "id": "9ad207bb",
   "metadata": {},
   "source": [
    "We do the same for positives."
   ]
  },
  {
   "cell_type": "code",
   "execution_count": 143,
   "id": "c8c2a379",
   "metadata": {},
   "outputs": [
    {
     "data": {
      "text/plain": [
       "array([0.7625, 0.525 , 0.2875, 0.05  ])"
      ]
     },
     "execution_count": 143,
     "metadata": {},
     "output_type": "execute_result"
    }
   ],
   "source": [
    "pos_sent_bins = -neg_sent_bins[0:]\n",
    "pos_sent_bins"
   ]
  },
  {
   "cell_type": "code",
   "execution_count": 144,
   "id": "4c49f594",
   "metadata": {},
   "outputs": [
    {
     "data": {
      "text/plain": [
       "array([ 0.7625,  0.525 ,  0.2875,  0.05  , -0.05  , -0.2875, -0.525 ,\n",
       "       -0.7625])"
      ]
     },
     "execution_count": 144,
     "metadata": {},
     "output_type": "execute_result"
    }
   ],
   "source": [
    "#merge the range of neg->pos\n",
    "sb=np.append(pos_sent_bins,np.flip(neg_sent_bins))\n",
    "sb"
   ]
  },
  {
   "cell_type": "code",
   "execution_count": 140,
   "id": "73017372",
   "metadata": {},
   "outputs": [],
   "source": [
    "#create desired order of intensity\n",
    "s_intensity = ['Extremely','Very','Moderately','Slightly']\n",
    "s_label = ['Positive','Negative']\n",
    "#iterate intensity,sent\n",
    "s_order = [intensity+' '+label for label in s_label[::-1] for intensity in s_intensity]\n",
    "#add neutral in middle\n",
    "s_order.insert(4,'Neutral')"
   ]
  },
  {
   "cell_type": "code",
   "execution_count": 146,
   "id": "760f35af",
   "metadata": {},
   "outputs": [
    {
     "data": {
      "text/plain": [
       "['Extremely Negative',\n",
       " 'Very Negative',\n",
       " 'Moderately Negative',\n",
       " 'Slightly Negative',\n",
       " 'Neutral',\n",
       " 'Slightly Positive',\n",
       " 'Moderately Positive',\n",
       " 'Very Positive',\n",
       " 'Extremely Positive']"
      ]
     },
     "execution_count": 146,
     "metadata": {},
     "output_type": "execute_result"
    }
   ],
   "source": [
    "#preview\n",
    "s_order"
   ]
  },
  {
   "cell_type": "code",
   "execution_count": 147,
   "id": "b2cc7ba3",
   "metadata": {},
   "outputs": [
    {
     "data": {
      "text/plain": [
       "['Positive', 'Negative']"
      ]
     },
     "execution_count": 147,
     "metadata": {},
     "output_type": "execute_result"
    }
   ],
   "source": [
    "s_label"
   ]
  },
  {
   "cell_type": "code",
   "execution_count": 148,
   "id": "a24e34de",
   "metadata": {},
   "outputs": [],
   "source": [
    "import math"
   ]
  },
  {
   "cell_type": "markdown",
   "id": "1a893c91",
   "metadata": {},
   "source": [
    "Testing selection method"
   ]
  },
  {
   "cell_type": "code",
   "execution_count": 149,
   "id": "d7c967a8",
   "metadata": {},
   "outputs": [
    {
     "data": {
      "text/plain": [
       "[True, True, True, True]"
      ]
     },
     "execution_count": 149,
     "metadata": {},
     "output_type": "execute_result"
    }
   ],
   "source": [
    "[0.9>x for x in pos_sent_bins]"
   ]
  },
  {
   "cell_type": "code",
   "execution_count": 150,
   "id": "b50a7240",
   "metadata": {},
   "outputs": [
    {
     "data": {
      "text/plain": [
       "0"
      ]
     },
     "execution_count": 150,
     "metadata": {},
     "output_type": "execute_result"
    }
   ],
   "source": [
    "[0.9>x for x in pos_sent_bins].index(True)"
   ]
  },
  {
   "cell_type": "code",
   "execution_count": 151,
   "id": "44f2d81a",
   "metadata": {},
   "outputs": [
    {
     "data": {
      "text/plain": [
       "'Extremely'"
      ]
     },
     "execution_count": 151,
     "metadata": {},
     "output_type": "execute_result"
    }
   ],
   "source": [
    "s_intensity[0]"
   ]
  },
  {
   "cell_type": "markdown",
   "id": "ab58f73f",
   "metadata": {},
   "source": [
    "Create function to turn sentiment score into sentiment intensity bin"
   ]
  },
  {
   "cell_type": "code",
   "execution_count": 113,
   "id": "5857d451",
   "metadata": {},
   "outputs": [],
   "source": [
    "def sentimentLabel(sentiment):\n",
    "    abs_sent = abs(sentiment)\n",
    "    \n",
    "    if abs_sent<=0.05: #treat neutral range separately\n",
    "        return 'Neutral'\n",
    "    else:\n",
    "        #if the sentiment is negative, math.ceil(sent)-1=-1\n",
    "        #if the sentiment is negative, math.ceil(sent)-1=0\n",
    "        #sent/2 is a way to handle cases where sent == -1 or sent == 1 exactly\n",
    "        i = math.ceil(sentiment/2)-1\n",
    "        #grab positive or negative index from s_label\n",
    "        label = s_label[i]\n",
    "        #grab intensity from pos_sent_bins (intensity is symmetrical)\n",
    "        ii = [abs_sent>x for x in pos_sent_bins].index(True)\n",
    "        intensity = s_intensity[ii]\n",
    "        \n",
    "        return '{} {}'.format(intensity,label)"
   ]
  },
  {
   "cell_type": "markdown",
   "id": "35c0b02c",
   "metadata": {},
   "source": [
    "Append bins to DataFrame"
   ]
  },
  {
   "cell_type": "code",
   "execution_count": 114,
   "id": "1de9f1bf",
   "metadata": {},
   "outputs": [],
   "source": [
    "data['vader_sentiment_bin'] = np.vectorize(sentimentLabel)(data['vader_sentiment'])\n",
    "data['stanza_sentiment_bin'] = np.vectorize(sentimentLabel)(data['stanza_sentiment'])"
   ]
  },
  {
   "cell_type": "code",
   "execution_count": 116,
   "id": "f6081b32",
   "metadata": {},
   "outputs": [],
   "source": [
    "data.to_csv('../Data/savedsent.csv',index=False)"
   ]
  },
  {
   "cell_type": "code",
   "execution_count": 117,
   "id": "d7cd47fe",
   "metadata": {},
   "outputs": [],
   "source": [
    "data = pd.read_csv('../Data/savedsent.csv')"
   ]
  },
  {
   "cell_type": "code",
   "execution_count": 118,
   "id": "60fdcc02",
   "metadata": {},
   "outputs": [
    {
     "data": {
      "text/html": [
       "<div>\n",
       "<style scoped>\n",
       "    .dataframe tbody tr th:only-of-type {\n",
       "        vertical-align: middle;\n",
       "    }\n",
       "\n",
       "    .dataframe tbody tr th {\n",
       "        vertical-align: top;\n",
       "    }\n",
       "\n",
       "    .dataframe thead th {\n",
       "        text-align: right;\n",
       "    }\n",
       "</style>\n",
       "<table border=\"1\" class=\"dataframe\">\n",
       "  <thead>\n",
       "    <tr style=\"text-align: right;\">\n",
       "      <th></th>\n",
       "      <th>email</th>\n",
       "      <th>vader_sentiment</th>\n",
       "      <th>stanza_sentiment</th>\n",
       "      <th>vader_sentiment_bin</th>\n",
       "      <th>stanza_sentiment_bin</th>\n",
       "    </tr>\n",
       "  </thead>\n",
       "  <tbody>\n",
       "    <tr>\n",
       "      <th>0</th>\n",
       "      <td>\\nIt's clear the Ebay made the error in this  ...</td>\n",
       "      <td>0.165400</td>\n",
       "      <td>-0.200000</td>\n",
       "      <td>Slightly Positive</td>\n",
       "      <td>Slightly Negative</td>\n",
       "    </tr>\n",
       "    <tr>\n",
       "      <th>1</th>\n",
       "      <td>We are wrapping up several hours in the office...</td>\n",
       "      <td>0.177890</td>\n",
       "      <td>0.100000</td>\n",
       "      <td>Slightly Positive</td>\n",
       "      <td>Slightly Positive</td>\n",
       "    </tr>\n",
       "    <tr>\n",
       "      <th>2</th>\n",
       "      <td>email problems, No temps yet, same as for cast\\n</td>\n",
       "      <td>-0.599400</td>\n",
       "      <td>-0.500000</td>\n",
       "      <td>Very Negative</td>\n",
       "      <td>Moderately Negative</td>\n",
       "    </tr>\n",
       "    <tr>\n",
       "      <th>3</th>\n",
       "      <td>VITA Volunteers The Volunteer Income Tax Assis...</td>\n",
       "      <td>-0.003654</td>\n",
       "      <td>-0.266667</td>\n",
       "      <td>Neutral</td>\n",
       "      <td>Slightly Negative</td>\n",
       "    </tr>\n",
       "    <tr>\n",
       "      <th>4</th>\n",
       "      <td>if we were open today, where would you open it?</td>\n",
       "      <td>0.000000</td>\n",
       "      <td>0.000000</td>\n",
       "      <td>Neutral</td>\n",
       "      <td>Neutral</td>\n",
       "    </tr>\n",
       "  </tbody>\n",
       "</table>\n",
       "</div>"
      ],
      "text/plain": [
       "                                               email  vader_sentiment  \\\n",
       "0  \\nIt's clear the Ebay made the error in this  ...         0.165400   \n",
       "1  We are wrapping up several hours in the office...         0.177890   \n",
       "2   email problems, No temps yet, same as for cast\\n        -0.599400   \n",
       "3  VITA Volunteers The Volunteer Income Tax Assis...        -0.003654   \n",
       "4    if we were open today, where would you open it?         0.000000   \n",
       "\n",
       "   stanza_sentiment vader_sentiment_bin stanza_sentiment_bin  \n",
       "0         -0.200000   Slightly Positive    Slightly Negative  \n",
       "1          0.100000   Slightly Positive    Slightly Positive  \n",
       "2         -0.500000       Very Negative  Moderately Negative  \n",
       "3         -0.266667             Neutral    Slightly Negative  \n",
       "4          0.000000             Neutral              Neutral  "
      ]
     },
     "execution_count": 118,
     "metadata": {},
     "output_type": "execute_result"
    }
   ],
   "source": [
    "data.head()"
   ]
  },
  {
   "cell_type": "markdown",
   "id": "1a7a96d9",
   "metadata": {},
   "source": [
    "## Histogram"
   ]
  },
  {
   "cell_type": "markdown",
   "id": "f670c53a",
   "metadata": {},
   "source": [
    "Reminder of `s_order` variable"
   ]
  },
  {
   "cell_type": "code",
   "execution_count": 48,
   "id": "6aed1db5",
   "metadata": {},
   "outputs": [
    {
     "data": {
      "text/plain": [
       "['Extremely Negative',\n",
       " 'Very Negative',\n",
       " 'Moderately Negative',\n",
       " 'Slightly Negative',\n",
       " 'Neutral',\n",
       " 'Slightly Positive',\n",
       " 'Moderately Positive',\n",
       " 'Very Positive',\n",
       " 'Extremely Positive']"
      ]
     },
     "execution_count": 48,
     "metadata": {},
     "output_type": "execute_result"
    }
   ],
   "source": [
    "s_order"
   ]
  },
  {
   "cell_type": "markdown",
   "id": "418fde87",
   "metadata": {},
   "source": [
    "Get `value_count` for each sentiment bin (VADER and Stanza), then put them in desired `s_order`"
   ]
  },
  {
   "cell_type": "code",
   "execution_count": 49,
   "id": "b6262ddd",
   "metadata": {},
   "outputs": [
    {
     "data": {
      "text/plain": [
       "({'Extremely Negative': 87,\n",
       "  'Very Negative': 240,\n",
       "  'Moderately Negative': 704,\n",
       "  'Slightly Negative': 6731,\n",
       "  'Neutral': 24818,\n",
       "  'Slightly Positive': 47397,\n",
       "  'Moderately Positive': 19782,\n",
       "  'Very Positive': 2858,\n",
       "  'Extremely Positive': 541},\n",
       " {'Extremely Negative': 1909,\n",
       "  'Very Negative': 1621,\n",
       "  'Moderately Negative': 14125,\n",
       "  'Slightly Negative': 29341,\n",
       "  'Neutral': 39506,\n",
       "  'Slightly Positive': 11515,\n",
       "  'Moderately Positive': 4106,\n",
       "  'Very Positive': 418,\n",
       "  'Extremely Positive': 617})"
      ]
     },
     "execution_count": 49,
     "metadata": {},
     "output_type": "execute_result"
    }
   ],
   "source": [
    "v_sent_dict = data.vader_sentiment_bin.value_counts().to_dict()\n",
    "s_sent_dict = data.stanza_sentiment_bin.value_counts().to_dict()\n",
    "\n",
    "ord_vsent_dict= {k:v_sent_dict[k] for k in s_order}\n",
    "ord_ssent_dict= {k:s_sent_dict[k] for k in s_order}\n",
    "\n",
    "ord_vsent_dict, ord_ssent_dict"
   ]
  },
  {
   "cell_type": "code",
   "execution_count": 50,
   "id": "d2a75085",
   "metadata": {},
   "outputs": [
    {
     "name": "stdout",
     "output_type": "stream",
     "text": [
      "0.08\n",
      "0.23\n",
      "0.68\n",
      "6.52\n",
      "24.06\n",
      "45.95\n",
      "19.18\n",
      "2.77\n",
      "0.52\n"
     ]
    }
   ],
   "source": [
    "for k in ord_vsent_dict:\n",
    "    print(round(ord_vsent_dict[k]/len(data)*100,2))"
   ]
  },
  {
   "cell_type": "code",
   "execution_count": 52,
   "id": "efd2c0a7",
   "metadata": {},
   "outputs": [
    {
     "data": {
      "text/plain": [
       "(584, 1716)"
      ]
     },
     "execution_count": 52,
     "metadata": {},
     "output_type": "execute_result"
    }
   ],
   "source": [
    "len(ddata[ddata['stanza_sentiment']==1]), len(ddata[ddata['stanza_sentiment']==-1])"
   ]
  },
  {
   "cell_type": "code",
   "execution_count": 53,
   "id": "0d372bf1",
   "metadata": {},
   "outputs": [
    {
     "data": {
      "text/plain": [
       "0.00570858829739399"
      ]
     },
     "execution_count": 53,
     "metadata": {},
     "output_type": "execute_result"
    }
   ],
   "source": [
    "584/len(ddata) "
   ]
  },
  {
   "cell_type": "code",
   "execution_count": 54,
   "id": "a1178ba8",
   "metadata": {},
   "outputs": [
    {
     "data": {
      "text/plain": [
       "0.01677386561357549"
      ]
     },
     "execution_count": 54,
     "metadata": {},
     "output_type": "execute_result"
    }
   ],
   "source": [
    "1716/len(ddata)"
   ]
  },
  {
   "cell_type": "markdown",
   "id": "bc04a14e",
   "metadata": {},
   "source": [
    "Plot histogram of bin frequency"
   ]
  },
  {
   "cell_type": "code",
   "execution_count": 70,
   "id": "28be23e5",
   "metadata": {},
   "outputs": [
    {
     "data": {
      "image/png": "[encoded data removed]",
      "text/plain": [
       "<Figure size 864x576 with 1 Axes>"
      ]
     },
     "metadata": {
      "needs_background": "light"
     },
     "output_type": "display_data"
    }
   ],
   "source": [
    "fig,ax = plt.subplots(1,1)\n",
    "fig.set_size_inches(12, 8)\n",
    "\n",
    "x = ord_vsent_dict.keys()\n",
    "\n",
    "vy = ord_vsent_dict.values()\n",
    "sy = ord_ssent_dict.values()\n",
    "\n",
    "ax.bar(x,vy, color='b',alpha=0.5,label='vader_sent_bins')\n",
    "ax.bar(x,sy, color='r',alpha=0.5,label='stanza_sent_bins')\n",
    "\n",
    "plt.xlabel('Sentiment Bins',size=20,labelpad=15, color='#333333')\n",
    "plt.xticks(rotation='vertical',size=20)\n",
    "\n",
    "plt.ylabel('Frequency',size=20,labelpad=15, color='#333333')\n",
    "plt.yticks(size=20)\n",
    "\n",
    "plt.legend(prop={'size':20})\n",
    "fig.tight_layout()\n",
    "fig.savefig('../Data/stanz_vader_bins.png',dpi=200)\n",
    "\n",
    "plt.show()"
   ]
  },
  {
   "cell_type": "markdown",
   "id": "9a96855d",
   "metadata": {},
   "source": [
    "Seems to be substantial differences (as we saw by ~40k rows in `rr` DataFrame)"
   ]
  },
  {
   "cell_type": "markdown",
   "id": "fd78038d",
   "metadata": {},
   "source": [
    "## KDE"
   ]
  },
  {
   "cell_type": "markdown",
   "id": "64387343",
   "metadata": {},
   "source": [
    "sampling idea: find way to approximate density a bit more automatically. currently kde with bandwidth set to 0.0175 seems pretty good (by eye) but could be overfitting. is there a better way to do this other than brute force gradient descent for example?\n",
    "\n",
    "make mention of maybe expert knowledge and bayesian methods for having priors?"
   ]
  },
  {
   "cell_type": "markdown",
   "id": "e25d2156",
   "metadata": {},
   "source": [
    "kde code from [here](https://stackoverflow.com/questions/63843884/sample-from-a-distribution-function-in-python)"
   ]
  },
  {
   "cell_type": "markdown",
   "id": "cbd28c1b",
   "metadata": {},
   "source": [
    "KDE estimates for each of VADER and Stanza raw sentiment scores"
   ]
  },
  {
   "cell_type": "code",
   "execution_count": 61,
   "id": "4038ab0d",
   "metadata": {},
   "outputs": [],
   "source": [
    "vobs = np.array(data[~data['email'].duplicated()]['vader_sentiment'])\n",
    "vkde1 = stats.gaussian_kde(vobs)\n",
    "\n",
    "sobs = np.array(data[~data['email'].duplicated()]['stanza_sentiment'])\n",
    "skde1 = stats.gaussian_kde(sobs)\n",
    "\n",
    "x1 = np.linspace(-1, 1, 1000)\n",
    "vy1 = vkde1.pdf(x1)\n",
    "sy1 = skde1.pdf(x1)\n",
    "\n",
    "# vkde2 = KernelDensity(bandwidth=0.1).fit(obs.reshape(-1, 1))\n",
    "# vy2 = kde2.sample(10**5,random_state=42);\n",
    "\n",
    "# vkde3 = KernelDensity(bandwidth=0.0175).fit(obs.reshape(-1, 1))\n",
    "# vy3 = vkde3.sample(10**5,random_state=42);\n",
    "\n",
    "# vkde3 = KernelDensity(bandwidth=0.0175).fit(obs.reshape(-1, 1))\n",
    "# vy3 = vkde3.sample(10**5,random_state=42);\n",
    "\n",
    "# vkde4 = KernelDensity(bandwidth=0.001).fit(obs.reshape(-1, 1))\n",
    "# y4 = kde4.sample(10**5,random_state=42);"
   ]
  },
  {
   "cell_type": "markdown",
   "id": "59701e9f",
   "metadata": {},
   "source": [
    "Plotting KDE"
   ]
  },
  {
   "cell_type": "code",
   "execution_count": 69,
   "id": "8d0790d5",
   "metadata": {},
   "outputs": [
    {
     "data": {
      "image/png": "[encoded data removed]",
      "text/plain": [
       "<Figure size 864x576 with 1 Axes>"
      ]
     },
     "metadata": {
      "needs_background": "light"
     },
     "output_type": "display_data"
    }
   ],
   "source": [
    "from scipy import stats\n",
    "from sklearn.neighbors import KernelDensity\n",
    "import matplotlib.pyplot as plt\n",
    "\n",
    "fig, ax = plt.subplots(1,1)\n",
    "fig.set_size_inches(12, 8)\n",
    "\n",
    "vline = ax.plot(x1, vy1, c='b',label='vader kde')\n",
    "# ax.hist(vy2.ravel(), bins=100, density=True, color='r', alpha=0.7);\n",
    "# ax.hist(vy3.ravel(), bins=100, density=True, color='m', alpha=0.7);\n",
    "# ax.hist(vy4.ravel(), bins=100, density=True, color='r', alpha=0.7);\n",
    "\n",
    "sline = ax.plot(x1,sy1,c='r',label = 'stanza kde')\n",
    "# ax.hist(sy3.ravel(), bins=100, density=True, color='c', alpha=0.7);\n",
    "\n",
    "plt.xlabel('Sentiment Score',size=20,labelpad=15, color='#333333')\n",
    "plt.xticks(rotation='vertical',size=20)\n",
    "\n",
    "plt.ylabel('Frequency',size=20,labelpad=15, color='#333333')\n",
    "plt.yticks(size=20)\n",
    "\n",
    "plt.legend(prop={'size':20})\n",
    "\n",
    "fig.tight_layout()\n",
    "fig.savefig('../Data/stanz_vader_dist.png',dpi=150)\n",
    "\n",
    "plt.show()"
   ]
  },
  {
   "cell_type": "markdown",
   "id": "9d3683b1",
   "metadata": {},
   "source": [
    "Checking sent score sampling"
   ]
  },
  {
   "cell_type": "code",
   "execution_count": 87,
   "id": "b48c7644",
   "metadata": {},
   "outputs": [
    {
     "data": {
      "image/png": "[encoded data removed]",
      "text/plain": [
       "<Figure size 1728x1008 with 1 Axes>"
      ]
     },
     "metadata": {
      "needs_background": "light"
     },
     "output_type": "display_data"
    }
   ],
   "source": [
    "fig, ax = plt.subplots(figsize=(24,14))\n",
    "ax.plot(x1, vy1, c='black')\n",
    "# ax.hist(vy2.ravel(), bins=100, density=True, color='r', alpha=0.7);\n",
    "ax.hist(vy3.ravel(), bins=100, density=True, color='m', alpha=0.7);\n",
    "# ax.hist(vy4.ravel(), bins=100, density=True, color='r', alpha=0.7);\n",
    "\n",
    "# ax.plot(x1,sy1,c='blue')\n",
    "# ax.hist(sy3.ravel(), bins=100, density=True, color='c', alpha=0.7);"
   ]
  },
  {
   "cell_type": "code",
   "execution_count": 96,
   "id": "69981047",
   "metadata": {},
   "outputs": [],
   "source": [
    "sample1=kde1.resample(size=10**5)\n",
    "sample2=kde2.sample(n_samples=10**5)\n",
    "sample3=kde3.sample(n_samples=10**5)"
   ]
  },
  {
   "cell_type": "code",
   "execution_count": 98,
   "id": "55d48179",
   "metadata": {},
   "outputs": [
    {
     "name": "stdout",
     "output_type": "stream",
     "text": [
      "Sample 1 min.: -1.0304356797476546 Sample 1 max.: 1.0263327955552521\n",
      "Sample 2 min.: -1.1834379175276741 Sample 2 max.: 1.1662116639080349\n",
      "Sample 3 min.: -1.0252229439121836 Sample 3 max.: 1.001270945921117\n"
     ]
    }
   ],
   "source": [
    "for i in range(1,4):\n",
    "    k = locals()['sample{}'.format(i)]\n",
    "    print('Sample {} min.:'.format(i),k.min(),'Sample {} max.:'.format(i),k.max())"
   ]
  },
  {
   "cell_type": "markdown",
   "id": "4d64d5ae",
   "metadata": {},
   "source": [
    "KDE unconstrained so vales>1 and values<-1 appear which is undesirable."
   ]
  },
  {
   "cell_type": "markdown",
   "id": "ffdb4cc3",
   "metadata": {},
   "source": [
    "# Exploration, Can Ignore"
   ]
  },
  {
   "cell_type": "markdown",
   "id": "de363812",
   "metadata": {},
   "source": [
    "Sub-select non-duplicated rows"
   ]
  },
  {
   "cell_type": "code",
   "execution_count": 119,
   "id": "0bc88831",
   "metadata": {},
   "outputs": [],
   "source": [
    "ddata = data[~data.duplicated('email')].sort_values(by='vader_sentiment')"
   ]
  },
  {
   "cell_type": "markdown",
   "id": "43a7a146",
   "metadata": {},
   "source": [
    "Look at all non-duplicated email rows where Stanza and VADER disagree by at least one sentiment bin.\n",
    "\n",
    "Note: sentiment bin width is 0.2375, neutral width is 0.05 either side, score difference of 0.28 is just a nice middle ground to use for a difference of at least one sentiment bin, plus some uncertainty."
   ]
  },
  {
   "cell_type": "code",
   "execution_count": 120,
   "id": "d8562ed0",
   "metadata": {},
   "outputs": [
    {
     "data": {
      "text/html": [
       "<div>\n",
       "<style scoped>\n",
       "    .dataframe tbody tr th:only-of-type {\n",
       "        vertical-align: middle;\n",
       "    }\n",
       "\n",
       "    .dataframe tbody tr th {\n",
       "        vertical-align: top;\n",
       "    }\n",
       "\n",
       "    .dataframe thead th {\n",
       "        text-align: right;\n",
       "    }\n",
       "</style>\n",
       "<table border=\"1\" class=\"dataframe\">\n",
       "  <thead>\n",
       "    <tr style=\"text-align: right;\">\n",
       "      <th></th>\n",
       "      <th>email</th>\n",
       "      <th>vader_sentiment</th>\n",
       "      <th>stanza_sentiment</th>\n",
       "      <th>vader_sentiment_bin</th>\n",
       "      <th>stanza_sentiment_bin</th>\n",
       "      <th>abs_diff</th>\n",
       "    </tr>\n",
       "  </thead>\n",
       "  <tbody>\n",
       "    <tr>\n",
       "      <th>10042</th>\n",
       "      <td>Met today w/ Causey and Sally to discuss Doors...</td>\n",
       "      <td>0.080011</td>\n",
       "      <td>-0.200000</td>\n",
       "      <td>Slightly Positive</td>\n",
       "      <td>Slightly Negative</td>\n",
       "      <td>0.280011</td>\n",
       "    </tr>\n",
       "    <tr>\n",
       "      <th>95622</th>\n",
       "      <td>I thought that you might be interested in our ...</td>\n",
       "      <td>0.189109</td>\n",
       "      <td>-0.090909</td>\n",
       "      <td>Slightly Positive</td>\n",
       "      <td>Slightly Negative</td>\n",
       "      <td>0.280018</td>\n",
       "    </tr>\n",
       "    <tr>\n",
       "      <th>78408</th>\n",
       "      <td>I sent that file to you in error. Please disre...</td>\n",
       "      <td>0.030033</td>\n",
       "      <td>-0.250000</td>\n",
       "      <td>Neutral</td>\n",
       "      <td>Slightly Negative</td>\n",
       "      <td>0.280033</td>\n",
       "    </tr>\n",
       "    <tr>\n",
       "      <th>10039</th>\n",
       "      <td>I've done some research in relation to securin...</td>\n",
       "      <td>0.106133</td>\n",
       "      <td>-0.173913</td>\n",
       "      <td>Slightly Positive</td>\n",
       "      <td>Slightly Negative</td>\n",
       "      <td>0.280046</td>\n",
       "    </tr>\n",
       "    <tr>\n",
       "      <th>71618</th>\n",
       "      <td>Due to the U. S. and London markets being clos...</td>\n",
       "      <td>0.280050</td>\n",
       "      <td>0.000000</td>\n",
       "      <td>Slightly Positive</td>\n",
       "      <td>Neutral</td>\n",
       "      <td>0.280050</td>\n",
       "    </tr>\n",
       "    <tr>\n",
       "      <th>...</th>\n",
       "      <td>...</td>\n",
       "      <td>...</td>\n",
       "      <td>...</td>\n",
       "      <td>...</td>\n",
       "      <td>...</td>\n",
       "      <td>...</td>\n",
       "    </tr>\n",
       "    <tr>\n",
       "      <th>34561</th>\n",
       "      <td>\\n\\n(A)  \"Independent Amount\" means with respe...</td>\n",
       "      <td>0.877967</td>\n",
       "      <td>-1.000000</td>\n",
       "      <td>Extremely Positive</td>\n",
       "      <td>Extremely Negative</td>\n",
       "      <td>1.877967</td>\n",
       "    </tr>\n",
       "    <tr>\n",
       "      <th>51370</th>\n",
       "      <td>Liz called and they are inviting us over Sat n...</td>\n",
       "      <td>0.880900</td>\n",
       "      <td>-1.000000</td>\n",
       "      <td>Extremely Positive</td>\n",
       "      <td>Extremely Negative</td>\n",
       "      <td>1.880900</td>\n",
       "    </tr>\n",
       "    <tr>\n",
       "      <th>16483</th>\n",
       "      <td>\\n\\n\\n868055\\t6/20/01\\tEnron Energy Services\\t...</td>\n",
       "      <td>0.992200</td>\n",
       "      <td>-0.913043</td>\n",
       "      <td>Extremely Positive</td>\n",
       "      <td>Extremely Negative</td>\n",
       "      <td>1.905243</td>\n",
       "    </tr>\n",
       "    <tr>\n",
       "      <th>24849</th>\n",
       "      <td>Free Quote\\n Double Your Life Insurance For FR...</td>\n",
       "      <td>0.907500</td>\n",
       "      <td>-1.000000</td>\n",
       "      <td>Extremely Positive</td>\n",
       "      <td>Extremely Negative</td>\n",
       "      <td>1.907500</td>\n",
       "    </tr>\n",
       "    <tr>\n",
       "      <th>60629</th>\n",
       "      <td>Net Book Value shall be calculated based upon...</td>\n",
       "      <td>0.979500</td>\n",
       "      <td>-1.000000</td>\n",
       "      <td>Extremely Positive</td>\n",
       "      <td>Extremely Negative</td>\n",
       "      <td>1.979500</td>\n",
       "    </tr>\n",
       "  </tbody>\n",
       "</table>\n",
       "<p>42978 rows × 6 columns</p>\n",
       "</div>"
      ],
      "text/plain": [
       "                                                   email  vader_sentiment  \\\n",
       "10042  Met today w/ Causey and Sally to discuss Doors...         0.080011   \n",
       "95622  I thought that you might be interested in our ...         0.189109   \n",
       "78408  I sent that file to you in error. Please disre...         0.030033   \n",
       "10039  I've done some research in relation to securin...         0.106133   \n",
       "71618  Due to the U. S. and London markets being clos...         0.280050   \n",
       "...                                                  ...              ...   \n",
       "34561  \\n\\n(A)  \"Independent Amount\" means with respe...         0.877967   \n",
       "51370  Liz called and they are inviting us over Sat n...         0.880900   \n",
       "16483  \\n\\n\\n868055\\t6/20/01\\tEnron Energy Services\\t...         0.992200   \n",
       "24849  Free Quote\\n Double Your Life Insurance For FR...         0.907500   \n",
       "60629   Net Book Value shall be calculated based upon...         0.979500   \n",
       "\n",
       "       stanza_sentiment vader_sentiment_bin stanza_sentiment_bin  abs_diff  \n",
       "10042         -0.200000   Slightly Positive    Slightly Negative  0.280011  \n",
       "95622         -0.090909   Slightly Positive    Slightly Negative  0.280018  \n",
       "78408         -0.250000             Neutral    Slightly Negative  0.280033  \n",
       "10039         -0.173913   Slightly Positive    Slightly Negative  0.280046  \n",
       "71618          0.000000   Slightly Positive              Neutral  0.280050  \n",
       "...                 ...                 ...                  ...       ...  \n",
       "34561         -1.000000  Extremely Positive   Extremely Negative  1.877967  \n",
       "51370         -1.000000  Extremely Positive   Extremely Negative  1.880900  \n",
       "16483         -0.913043  Extremely Positive   Extremely Negative  1.905243  \n",
       "24849         -1.000000  Extremely Positive   Extremely Negative  1.907500  \n",
       "60629         -1.000000  Extremely Positive   Extremely Negative  1.979500  \n",
       "\n",
       "[42978 rows x 6 columns]"
      ]
     },
     "execution_count": 120,
     "metadata": {},
     "output_type": "execute_result"
    }
   ],
   "source": [
    "rr = ddata[abs(ddata.vader_sentiment-ddata.stanza_sentiment)>0.28].copy()\n",
    "rr['abs_diff'] = np.vectorize(abs)(rr.vader_sentiment-rr.stanza_sentiment)\n",
    "rr = rr.sort_values(by='abs_diff')\n",
    "rr"
   ]
  },
  {
   "cell_type": "code",
   "execution_count": 121,
   "id": "7bc5ff3e",
   "metadata": {},
   "outputs": [
    {
     "data": {
      "text/plain": [
       "0.420109088776368"
      ]
     },
     "execution_count": 121,
     "metadata": {},
     "output_type": "execute_result"
    }
   ],
   "source": [
    "len(rr)/len(ddata)"
   ]
  },
  {
   "cell_type": "code",
   "execution_count": 122,
   "id": "ee34653b",
   "metadata": {},
   "outputs": [
    {
     "data": {
      "text/plain": [
       "array([0.7625, 0.525 , 0.2875, 0.05  ])"
      ]
     },
     "execution_count": 122,
     "metadata": {},
     "output_type": "execute_result"
    }
   ],
   "source": [
    "pos_sent_bins"
   ]
  },
  {
   "cell_type": "markdown",
   "id": "6b5edda2",
   "metadata": {},
   "source": [
    "Ignored the cases where the email is seen as Neutral by VADER or Stanza (idea being that Neutral emails can sometimes have weird traits). This is just an exploration stage and will look at Neutral emails later."
   ]
  },
  {
   "cell_type": "code",
   "execution_count": 123,
   "id": "8d8535fb",
   "metadata": {},
   "outputs": [
    {
     "data": {
      "text/html": [
       "<div>\n",
       "<style scoped>\n",
       "    .dataframe tbody tr th:only-of-type {\n",
       "        vertical-align: middle;\n",
       "    }\n",
       "\n",
       "    .dataframe tbody tr th {\n",
       "        vertical-align: top;\n",
       "    }\n",
       "\n",
       "    .dataframe thead th {\n",
       "        text-align: right;\n",
       "    }\n",
       "</style>\n",
       "<table border=\"1\" class=\"dataframe\">\n",
       "  <thead>\n",
       "    <tr style=\"text-align: right;\">\n",
       "      <th></th>\n",
       "      <th>email</th>\n",
       "      <th>vader_sentiment</th>\n",
       "      <th>stanza_sentiment</th>\n",
       "      <th>vader_sentiment_bin</th>\n",
       "      <th>stanza_sentiment_bin</th>\n",
       "      <th>abs_diff</th>\n",
       "    </tr>\n",
       "  </thead>\n",
       "  <tbody>\n",
       "    <tr>\n",
       "      <th>10042</th>\n",
       "      <td>Met today w/ Causey and Sally to discuss Doors...</td>\n",
       "      <td>0.080011</td>\n",
       "      <td>-0.200000</td>\n",
       "      <td>Slightly Positive</td>\n",
       "      <td>Slightly Negative</td>\n",
       "      <td>0.280011</td>\n",
       "    </tr>\n",
       "    <tr>\n",
       "      <th>95622</th>\n",
       "      <td>I thought that you might be interested in our ...</td>\n",
       "      <td>0.189109</td>\n",
       "      <td>-0.090909</td>\n",
       "      <td>Slightly Positive</td>\n",
       "      <td>Slightly Negative</td>\n",
       "      <td>0.280018</td>\n",
       "    </tr>\n",
       "    <tr>\n",
       "      <th>10039</th>\n",
       "      <td>I've done some research in relation to securin...</td>\n",
       "      <td>0.106133</td>\n",
       "      <td>-0.173913</td>\n",
       "      <td>Slightly Positive</td>\n",
       "      <td>Slightly Negative</td>\n",
       "      <td>0.280046</td>\n",
       "    </tr>\n",
       "    <tr>\n",
       "      <th>38277</th>\n",
       "      <td>Hi Vince\\n\\nI tried dialling you around 3pm UK...</td>\n",
       "      <td>0.180055</td>\n",
       "      <td>-0.100000</td>\n",
       "      <td>Slightly Positive</td>\n",
       "      <td>Slightly Negative</td>\n",
       "      <td>0.280055</td>\n",
       "    </tr>\n",
       "    <tr>\n",
       "      <th>35451</th>\n",
       "      <td>Mr. Rosen:\\n\\nAttached is the form master nett...</td>\n",
       "      <td>0.080060</td>\n",
       "      <td>-0.200000</td>\n",
       "      <td>Slightly Positive</td>\n",
       "      <td>Slightly Negative</td>\n",
       "      <td>0.280060</td>\n",
       "    </tr>\n",
       "    <tr>\n",
       "      <th>...</th>\n",
       "      <td>...</td>\n",
       "      <td>...</td>\n",
       "      <td>...</td>\n",
       "      <td>...</td>\n",
       "      <td>...</td>\n",
       "      <td>...</td>\n",
       "    </tr>\n",
       "    <tr>\n",
       "      <th>34561</th>\n",
       "      <td>\\n\\n(A)  \"Independent Amount\" means with respe...</td>\n",
       "      <td>0.877967</td>\n",
       "      <td>-1.000000</td>\n",
       "      <td>Extremely Positive</td>\n",
       "      <td>Extremely Negative</td>\n",
       "      <td>1.877967</td>\n",
       "    </tr>\n",
       "    <tr>\n",
       "      <th>51370</th>\n",
       "      <td>Liz called and they are inviting us over Sat n...</td>\n",
       "      <td>0.880900</td>\n",
       "      <td>-1.000000</td>\n",
       "      <td>Extremely Positive</td>\n",
       "      <td>Extremely Negative</td>\n",
       "      <td>1.880900</td>\n",
       "    </tr>\n",
       "    <tr>\n",
       "      <th>16483</th>\n",
       "      <td>\\n\\n\\n868055\\t6/20/01\\tEnron Energy Services\\t...</td>\n",
       "      <td>0.992200</td>\n",
       "      <td>-0.913043</td>\n",
       "      <td>Extremely Positive</td>\n",
       "      <td>Extremely Negative</td>\n",
       "      <td>1.905243</td>\n",
       "    </tr>\n",
       "    <tr>\n",
       "      <th>24849</th>\n",
       "      <td>Free Quote\\n Double Your Life Insurance For FR...</td>\n",
       "      <td>0.907500</td>\n",
       "      <td>-1.000000</td>\n",
       "      <td>Extremely Positive</td>\n",
       "      <td>Extremely Negative</td>\n",
       "      <td>1.907500</td>\n",
       "    </tr>\n",
       "    <tr>\n",
       "      <th>60629</th>\n",
       "      <td>Net Book Value shall be calculated based upon...</td>\n",
       "      <td>0.979500</td>\n",
       "      <td>-1.000000</td>\n",
       "      <td>Extremely Positive</td>\n",
       "      <td>Extremely Negative</td>\n",
       "      <td>1.979500</td>\n",
       "    </tr>\n",
       "  </tbody>\n",
       "</table>\n",
       "<p>28662 rows × 6 columns</p>\n",
       "</div>"
      ],
      "text/plain": [
       "                                                   email  vader_sentiment  \\\n",
       "10042  Met today w/ Causey and Sally to discuss Doors...         0.080011   \n",
       "95622  I thought that you might be interested in our ...         0.189109   \n",
       "10039  I've done some research in relation to securin...         0.106133   \n",
       "38277  Hi Vince\\n\\nI tried dialling you around 3pm UK...         0.180055   \n",
       "35451  Mr. Rosen:\\n\\nAttached is the form master nett...         0.080060   \n",
       "...                                                  ...              ...   \n",
       "34561  \\n\\n(A)  \"Independent Amount\" means with respe...         0.877967   \n",
       "51370  Liz called and they are inviting us over Sat n...         0.880900   \n",
       "16483  \\n\\n\\n868055\\t6/20/01\\tEnron Energy Services\\t...         0.992200   \n",
       "24849  Free Quote\\n Double Your Life Insurance For FR...         0.907500   \n",
       "60629   Net Book Value shall be calculated based upon...         0.979500   \n",
       "\n",
       "       stanza_sentiment vader_sentiment_bin stanza_sentiment_bin  abs_diff  \n",
       "10042         -0.200000   Slightly Positive    Slightly Negative  0.280011  \n",
       "95622         -0.090909   Slightly Positive    Slightly Negative  0.280018  \n",
       "10039         -0.173913   Slightly Positive    Slightly Negative  0.280046  \n",
       "38277         -0.100000   Slightly Positive    Slightly Negative  0.280055  \n",
       "35451         -0.200000   Slightly Positive    Slightly Negative  0.280060  \n",
       "...                 ...                 ...                  ...       ...  \n",
       "34561         -1.000000  Extremely Positive   Extremely Negative  1.877967  \n",
       "51370         -1.000000  Extremely Positive   Extremely Negative  1.880900  \n",
       "16483         -0.913043  Extremely Positive   Extremely Negative  1.905243  \n",
       "24849         -1.000000  Extremely Positive   Extremely Negative  1.907500  \n",
       "60629         -1.000000  Extremely Positive   Extremely Negative  1.979500  \n",
       "\n",
       "[28662 rows x 6 columns]"
      ]
     },
     "execution_count": 123,
     "metadata": {},
     "output_type": "execute_result"
    }
   ],
   "source": [
    "rr[(rr.vader_sentiment_bin!='Neutral') & (rr.stanza_sentiment_bin!='Neutral')]"
   ]
  },
  {
   "cell_type": "markdown",
   "id": "7fbbb20b",
   "metadata": {},
   "source": [
    "Look at the first example of a normal-looking email with significant scoring difference."
   ]
  },
  {
   "cell_type": "code",
   "execution_count": 31,
   "id": "d0f800f8",
   "metadata": {},
   "outputs": [],
   "source": [
    "small_diff_doc0 = rr.iloc[0]"
   ]
  },
  {
   "cell_type": "code",
   "execution_count": 32,
   "id": "0cff4882",
   "metadata": {},
   "outputs": [
    {
     "name": "stdout",
     "output_type": "stream",
     "text": [
      "Met today w/ Causey and Sally to discuss Doorstep going forward. Following is \n",
      "my goal with this process.  Rick Carson will co-ordinate RAC's efforts in \n",
      "this area pulling in other RAC people as required.\n",
      "\n",
      "\n",
      "- RAC will participate in review to determine which offices will be inspected \n",
      "and on what frequency\n",
      "- RAC will help design and participate as required in inspections\n",
      "- I will be able to see, through the RAC website, a list of all offices, a \n",
      "list of all offices requiring inspection, when an office was inspected, \n",
      "findings from that inspection and the follow-up from the findings.\n",
      "- If follow up is not happening, a \"red flagged\" reminder notice should be \n",
      "issued via email. \n",
      "\n",
      "This has been a huge effort and we have to have this going forward. This is \n",
      "one ball that can not be dropped. \n",
      "\n",
      "Let me know your thoughts if any.\n",
      "\n",
      "Rick\n"
     ]
    }
   ],
   "source": [
    "print(small_diff_doc0.email)"
   ]
  },
  {
   "cell_type": "markdown",
   "id": "66111c21",
   "metadata": {},
   "source": [
    "See what VADER and Stanza analyzers are scoring:"
   ]
  },
  {
   "cell_type": "code",
   "execution_count": 33,
   "id": "f8798879",
   "metadata": {},
   "outputs": [
    {
     "name": "stdout",
     "output_type": "stream",
     "text": [
      "Met today w/ Causey and Sally to discuss Doorstep going forward.\n",
      "0.0\n",
      "\n",
      "Following is \n",
      "my goal with this process.\n",
      "0.0\n",
      "\n",
      "Rick Carson will co-ordinate RAC's efforts in \n",
      "this area pulling in other RAC people as required.\n",
      "0.0\n",
      "\n",
      "- RAC will participate in review to determine which offices will be inspected \n",
      "and on what frequency\n",
      "- RAC will help design and participate as required in inspections\n",
      "- I will be able to see, through the RAC website, a list of all offices, a \n",
      "list of all offices requiring inspection, when an office was inspected, \n",
      "findings from that inspection and the follow-up from the findings.\n",
      "0.4019\n",
      "\n",
      "- If follow up is not happening, a \"red flagged\" reminder notice should be \n",
      "issued via email.\n",
      "0.0\n",
      "\n",
      "This has been a huge effort and we have to have this going forward.\n",
      "0.3182\n",
      "\n",
      "This is \n",
      "one ball that can not be dropped.\n",
      "0.0\n",
      "\n",
      "Let me know your thoughts if any.\n",
      "0.0\n",
      "\n",
      "Rick\n",
      "0.0\n",
      "\n",
      "**Average Sentiment**   : 0.0800111111111111\n"
     ]
    }
   ],
   "source": [
    "vader_analyzer_iter(small_diff_doc0.email)"
   ]
  },
  {
   "cell_type": "code",
   "execution_count": 34,
   "id": "de398fb7",
   "metadata": {},
   "outputs": [
    {
     "name": "stdout",
     "output_type": "stream",
     "text": [
      "Met today w/ Causey and Sally to discuss Doorstep going forward.\n",
      "0\n",
      "\n",
      "Following is \n",
      "my goal with this process.\n",
      "0\n",
      "\n",
      "Rick Carson will co-ordinate RAC's efforts in \n",
      "this area pulling in other RAC people as required.\n",
      "0\n",
      "\n",
      "- RAC will participate in review to determine which offices will be inspected \n",
      "and on what frequency\n",
      "- RAC will help design and participate as required in inspections\n",
      "- I will be able to see, through the RAC website, a list of all offices, a \n",
      "list of all offices requiring inspection, when an office was inspected, \n",
      "findings from that inspection and the follow-up from the findings.\n",
      "-1\n",
      "\n",
      "-\n",
      "0\n",
      "\n",
      "If follow up is not happening, a \"red flagged\" reminder notice should be \n",
      "issued via email.\n",
      "-1\n",
      "\n",
      "This has been a huge effort and we have to have this going forward.\n",
      "0\n",
      "\n",
      "This is \n",
      "one ball that can not be dropped.\n",
      "0\n",
      "\n",
      "Let me know your thoughts if any.\n",
      "0\n",
      "\n",
      "Rick\n",
      "0\n",
      "\n",
      "**Average Sentiment**   : -0.2\n"
     ]
    }
   ],
   "source": [
    "stanza_analyzer_iter(small_diff_doc0.email)"
   ]
  },
  {
   "cell_type": "markdown",
   "id": "a8f66e8b",
   "metadata": {},
   "source": [
    "This is an example of why sentiment analysis can be difficult: even looking at this email personally, the decision betwen labelling it Neutral or Slightly Negative seems somewhat arbitrary. VADER scores this Slightly Positive (though only at 0.08 compared to it being Neutral if it was 0.05), Stanza sees it as Slightly Negative."
   ]
  },
  {
   "cell_type": "markdown",
   "id": "6b97e745",
   "metadata": {},
   "source": [
    "Seeing what happens with the first 'normal-looking' email in the tail end of DataFrame (top 5 biggest differences)"
   ]
  },
  {
   "cell_type": "code",
   "execution_count": 35,
   "id": "4421eca5",
   "metadata": {},
   "outputs": [],
   "source": [
    "big_diff_doc = rr.tail().iloc[1]"
   ]
  },
  {
   "cell_type": "code",
   "execution_count": 36,
   "id": "adc89dbe",
   "metadata": {},
   "outputs": [
    {
     "data": {
      "text/plain": [
       "Unnamed: 0                                                         367745\n",
       "email                   Liz called and they are inviting us over Sat n...\n",
       "vader_sentiment                                                    0.8809\n",
       "stanza_sentiment                                                     -1.0\n",
       "vader_sentiment_bin                                    Extremely Positive\n",
       "stanza_sentiment_bin                                   Extremely Negative\n",
       "abs_diff                                                           1.8809\n",
       "Name: 51370, dtype: object"
      ]
     },
     "execution_count": 36,
     "metadata": {},
     "output_type": "execute_result"
    }
   ],
   "source": [
    "big_diff_doc"
   ]
  },
  {
   "cell_type": "code",
   "execution_count": 37,
   "id": "a59018f6",
   "metadata": {},
   "outputs": [
    {
     "name": "stdout",
     "output_type": "stream",
     "text": [
      "Liz called and they are inviting us over Sat nite for a very \n",
      "low key and relaxing taco night or - they thought maybe you can help them figure out\n",
      "how to use their grill...since you are the 'grill master'\n",
      "let me know \n",
      "ily\n",
      "kq\n"
     ]
    }
   ],
   "source": [
    "big_diff_e = big_diff_doc.email\n",
    "print(big_diff_e)"
   ]
  },
  {
   "cell_type": "markdown",
   "id": "47580ad6",
   "metadata": {},
   "source": [
    "Seeing what VADER and Stanza are scoring:"
   ]
  },
  {
   "cell_type": "code",
   "execution_count": 38,
   "id": "b4eca318",
   "metadata": {},
   "outputs": [
    {
     "name": "stdout",
     "output_type": "stream",
     "text": [
      "Liz called and they are inviting us over Sat nite for a very \n",
      "low key and relaxing taco night or - they thought maybe you can help them figure out\n",
      "how to use their grill...since you are the 'grill master'\n",
      "let me know \n",
      "ily\n",
      "kq\n",
      "0.8809\n",
      "\n",
      "**Average Sentiment**   : 0.8809\n"
     ]
    }
   ],
   "source": [
    "vader_analyzer_iter(big_diff_e)"
   ]
  },
  {
   "cell_type": "code",
   "execution_count": 39,
   "id": "f942ab44",
   "metadata": {},
   "outputs": [
    {
     "name": "stdout",
     "output_type": "stream",
     "text": [
      "Liz called and they are inviting us over Sat nite for a very \n",
      "low key and relaxing taco night or - they thought maybe you can help them figure out\n",
      "how to use their grill...since you are the 'grill master'\n",
      "let me know \n",
      "ily\n",
      "kq\n",
      "-1\n",
      "\n",
      "**Average Sentiment**   : -1.0\n"
     ]
    }
   ],
   "source": [
    "stanza_analyzer_iter(big_diff_e)"
   ]
  },
  {
   "cell_type": "markdown",
   "id": "263b60bd",
   "metadata": {},
   "source": [
    "It seems that the lack of full-stops has made the analyzers think that the email is only a single sentence, thus scoring it inaccurately. VADER somehow sees this as Extremely Positive (possibly due to it recognising *'ily'* under *'love'*, and the presence of the word *'relaxing'*). Stanza sees this as Extremely Negaitve: maybe the quotation marks around *'grill master'* imply sacasm to Stanza and it does not pick up slang terms such as *'ily'*.\n",
    "\n",
    "We (for the sake of exploration, not troubleshooting) see what this would look like if all newline-delimiters were replaced by full-stops to create multiple sentences."
   ]
  },
  {
   "cell_type": "code",
   "execution_count": 41,
   "id": "baf0093a",
   "metadata": {},
   "outputs": [
    {
     "data": {
      "text/plain": [
       "\"Liz called and they are inviting us over Sat nite for a very. low key and relaxing taco night or - they thought maybe you can help them figure out. how to use their grill...since you are the 'grill master'. let me know. ily. kq\""
      ]
     },
     "execution_count": 41,
     "metadata": {},
     "output_type": "execute_result"
    }
   ],
   "source": [
    "fix_doc = big_diff_e.replace(' \\n','. ')\n",
    "fix_doc = fix_doc.replace('\\n','. ')\n",
    "fix_doc"
   ]
  },
  {
   "cell_type": "code",
   "execution_count": 42,
   "id": "80575816",
   "metadata": {},
   "outputs": [
    {
     "name": "stdout",
     "output_type": "stream",
     "text": [
      "Liz called and they are inviting us over Sat nite for a very.\n",
      "0.3182\n",
      "\n",
      "low key and relaxing taco night or - they thought maybe you can help them figure out.\n",
      "0.5859\n",
      "\n",
      "how to use their grill...since you are the 'grill master'.\n",
      "0.0\n",
      "\n",
      "let me know.\n",
      "0.0\n",
      "\n",
      "ily.\n",
      "0.6597\n",
      "\n",
      "kq\n",
      "0.0\n",
      "\n",
      "**Average Sentiment**   : 0.26063333333333333\n"
     ]
    }
   ],
   "source": [
    "vader_analyzer_iter(fix_doc)"
   ]
  },
  {
   "cell_type": "code",
   "execution_count": 43,
   "id": "a9d58658",
   "metadata": {},
   "outputs": [
    {
     "name": "stdout",
     "output_type": "stream",
     "text": [
      "Liz called and they are inviting us over Sat nite for a very.\n",
      "1\n",
      "\n",
      "low key and relaxing taco night or - they thought maybe you can help them figure out.\n",
      "-1\n",
      "\n",
      "how to use their grill...since you are the 'grill master'.\n",
      "0\n",
      "\n",
      "let me know.\n",
      "0\n",
      "\n",
      "ily.\n",
      "0\n",
      "\n",
      "kq\n",
      "0\n",
      "\n",
      "**Average Sentiment**   : 0.0\n"
     ]
    }
   ],
   "source": [
    "stanza_analyzer_iter(fix_doc)"
   ]
  },
  {
   "cell_type": "markdown",
   "id": "0c4a110f",
   "metadata": {},
   "source": [
    "Both analyzers change significantly."
   ]
  },
  {
   "cell_type": "markdown",
   "id": "9f0f6204",
   "metadata": {},
   "source": [
    "Actual correct version of sentences (not just replacing every `\\n` with `.`)"
   ]
  },
  {
   "cell_type": "code",
   "execution_count": 44,
   "id": "ad88988c",
   "metadata": {},
   "outputs": [
    {
     "data": {
      "text/plain": [
       "\"Liz called and they are inviting us over Sat nite for a very low key and relaxing taco night or - they thought maybe you can help them figure out how to use their grill...since you are the 'grill master'. let me know. ily. kq\""
      ]
     },
     "execution_count": 44,
     "metadata": {},
     "output_type": "execute_result"
    }
   ],
   "source": [
    "fix_doc1 = fix_doc.replace('very. ','very ')\n",
    "fix_doc1 = fix_doc1.replace('out. ','out ')\n",
    "fix_doc1"
   ]
  },
  {
   "cell_type": "code",
   "execution_count": 45,
   "id": "92067925",
   "metadata": {},
   "outputs": [
    {
     "name": "stdout",
     "output_type": "stream",
     "text": [
      "Liz called and they are inviting us over Sat nite for a very low key and relaxing taco night or - they thought maybe you can help them figure out how to use their grill...since you are the 'grill master'.\n",
      "0.701\n",
      "\n",
      "let me know.\n",
      "0.0\n",
      "\n",
      "ily.\n",
      "0.6597\n",
      "\n",
      "kq\n",
      "0.0\n",
      "\n",
      "**Average Sentiment**   : 0.340175\n"
     ]
    }
   ],
   "source": [
    "vader_analyzer_iter(fix_doc1)"
   ]
  },
  {
   "cell_type": "markdown",
   "id": "7795b594",
   "metadata": {},
   "source": [
    "VADER scores the same as it did `fix_doc`"
   ]
  },
  {
   "cell_type": "code",
   "execution_count": 46,
   "id": "4ef7af00",
   "metadata": {},
   "outputs": [
    {
     "name": "stdout",
     "output_type": "stream",
     "text": [
      "Liz called and they are inviting us over Sat nite for a very low key and relaxing taco night or - they thought maybe you can help them figure out how to use their grill...since you are the 'grill master'.\n",
      "-1\n",
      "\n",
      "let me know.\n",
      "0\n",
      "\n",
      "ily.\n",
      "0\n",
      "\n",
      "kq\n",
      "0\n",
      "\n",
      "**Average Sentiment**   : -0.25\n"
     ]
    }
   ],
   "source": [
    "stanza_analyzer_iter(fix_doc1)"
   ]
  },
  {
   "cell_type": "code",
   "execution_count": 47,
   "id": "a1284440",
   "metadata": {},
   "outputs": [
    {
     "data": {
      "text/plain": [
       "array([-0.7625, -0.525 , -0.2875, -0.05  ])"
      ]
     },
     "execution_count": 47,
     "metadata": {},
     "output_type": "execute_result"
    }
   ],
   "source": [
    "neg_sent_bins"
   ]
  },
  {
   "cell_type": "markdown",
   "id": "b1a3c8ac",
   "metadata": {},
   "source": [
    "Stanza changes its mind from 'Neutral' to 'Slightly Negative'"
   ]
  },
  {
   "cell_type": "code",
   "execution_count": 335,
   "id": "3df53d11",
   "metadata": {},
   "outputs": [],
   "source": [
    "# big_diff2 = rr.tail().iloc[0]\n",
    "# big_diff2e = big_diff2.email\n",
    "# big_diff2"
   ]
  },
  {
   "cell_type": "code",
   "execution_count": 336,
   "id": "1230b936",
   "metadata": {},
   "outputs": [],
   "source": [
    "# print(big_diff2e)"
   ]
  },
  {
   "cell_type": "code",
   "execution_count": 337,
   "id": "f2bda2e9",
   "metadata": {},
   "outputs": [],
   "source": [
    "# stanza_analyzer_iter(big_diff2e)"
   ]
  },
  {
   "cell_type": "code",
   "execution_count": 338,
   "id": "8a9f7de4",
   "metadata": {},
   "outputs": [],
   "source": [
    "# vader_analyzer_iter(big_diff2e)"
   ]
  },
  {
   "cell_type": "code",
   "execution_count": 339,
   "id": "48e891d5",
   "metadata": {},
   "outputs": [],
   "source": [
    "# vader_analyzer(big_diff_doc), stanza_analyzer(big_diff_doc)"
   ]
  },
  {
   "cell_type": "code",
   "execution_count": 340,
   "id": "31308b67",
   "metadata": {},
   "outputs": [],
   "source": [
    "# rr.sample(frac=0.001,random_state=42)"
   ]
  }
 ],
 "metadata": {
  "kernelspec": {
   "display_name": "assessment4env",
   "language": "python",
   "name": "assessment4env"
  },
  "language_info": {
   "codemirror_mode": {
    "name": "ipython",
    "version": 3
   },
   "file_extension": ".py",
   "mimetype": "text/x-python",
   "name": "python",
   "nbconvert_exporter": "python",
   "pygments_lexer": "ipython3",
   "version": "3.8.5"
  }
 },
 "nbformat": 4,
 "nbformat_minor": 5
}
